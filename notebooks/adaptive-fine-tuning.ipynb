{
 "cells": [
  {
   "cell_type": "code",
   "execution_count": 1,
   "metadata": {},
   "outputs": [
    {
     "name": "stderr",
     "output_type": "stream",
     "text": [
      "/home/ozan/anaconda3/envs/lara-medh/lib/python3.12/site-packages/transformers/utils/generic.py:311: UserWarning: torch.utils._pytree._register_pytree_node is deprecated. Please use torch.utils._pytree.register_pytree_node instead.\n",
      "  torch.utils._pytree._register_pytree_node(\n"
     ]
    }
   ],
   "source": [
    "import pandas as pd\n",
    "import json\n",
    "from torch import cuda\n",
    "from sklearn.metrics import confusion_matrix, ConfusionMatrixDisplay, classification_report\n",
    "from transformers import AutoTokenizer, AutoModelForTokenClassification, Trainer, TrainingArguments, DebertaTokenizerFast\n",
    "import matplotlib.pyplot as plt\n",
    "import numpy as np\n",
    "from datasets import load_dataset, concatenate_datasets, DatasetDict\n",
    "import ast\n",
    "from transformers import Trainer, EarlyStoppingCallback\n",
    "from transformers import TrainingArguments\n",
    "from docx import Document\n",
    "from docx.shared import RGBColor\n",
    "from transformers import DataCollatorForTokenClassification\n",
    "from sklearn.model_selection import KFold\n",
    "import pickle\n",
    "from src.models.helpers import *"
   ]
  },
  {
   "cell_type": "code",
   "execution_count": 29,
   "metadata": {},
   "outputs": [],
   "source": [
    "def train_model(model_config):\n",
    "    for fold_no in model_config['fold_range']:  \n",
    "        # Load the tokenizer\n",
    "        # tokenizer = AutoTokenizer.from_pretrained(model_config['checkpoint_path'])  \n",
    "        if 'deberta' in  model_config['checkpoint_path']:\n",
    "            tokenizer = DebertaTokenizerFast.from_pretrained(model_config['checkpoint_path'], add_prefix_space=True)\n",
    "        else:\n",
    "            tokenizer = AutoTokenizer.from_pretrained(model_config['checkpoint_path'])\n",
    "\n",
    "        data_collator = DataCollatorForTokenClassification(tokenizer=tokenizer)\n",
    "\n",
    "        # Load the model\n",
    "        # model = AutoModelForTokenClassification.from_pretrained(model_config['checkpoint_path'])\n",
    "        model = AutoModelForTokenClassification.from_pretrained(\n",
    "        model_config['checkpoint_path'],\n",
    "        # 'samrawal/bert-base-uncased_clinical-ner',\n",
    "        # 'microsoft/deberta-base',\n",
    "        id2label=id2label,\n",
    "        label2id=label2id,\n",
    "        ignore_mismatched_sizes=True\n",
    "        )\n",
    "\n",
    "        # Load the evaluation data\n",
    "\n",
    "        # eval_dataset = load_dataset('csv', data_files=f'data/processed/{eval_dataset_name}/final_eval.csv')\n",
    "        # eval_dataset = eval_dataset.map(transform)\n",
    "        if fold_no < 5:\n",
    "            train_dataset = load_dataset('csv', data_files=f'data/processed/{model_config['train_dataset_name']}/train_fold_{fold_no}.csv')\n",
    "            eval_dataset = load_dataset('csv', data_files=f'data/processed/{model_config['eval_dataset_name']}/test_fold_{fold_no}.csv')\n",
    "        else:\n",
    "            train_dataset = load_dataset('csv', data_files=f'data/processed/{model_config['train_dataset_name']}/test_fold_{fold_no-5}.csv')\n",
    "            eval_dataset = load_dataset('csv', data_files=f'data/processed/{model_config['eval_dataset_name']}/train_fold_{fold_no-5}.csv')\n",
    "    \n",
    "    \n",
    "        # combined = concatenate_datasets([d1['train'], d2['train']])\n",
    "        # eval_dataset = DatasetDict({'train': combined})\n",
    "        train_dataset = train_dataset.map(transform)\n",
    "        eval_dataset = eval_dataset.map(transform)\n",
    "        \n",
    "        \n",
    "        print(eval_dataset)\n",
    "        \n",
    "        # word ids of the tokenized mtsamples to find the original words\n",
    "        eval_sentences = eval_dataset['train']['sentence']\n",
    "        eval_word_ids = []\n",
    "        for sentence in eval_sentences:\n",
    "            eval_word_ids.append(tokenizer(sentence, truncation=True, is_split_into_words=True).word_ids())\n",
    "        \n",
    "        train_sentences = train_dataset['train']['sentence']\n",
    "        train_word_ids = []\n",
    "        for sentence in train_sentences:\n",
    "            train_word_ids.append(tokenizer(sentence, truncation=True, is_split_into_words=True).word_ids())\n",
    "\n",
    "  \n",
    "\n",
    "        # Prepare the evaluation dataset\n",
    "        eval_dataset = eval_dataset.map(lambda examples: tokenize_and_align_labels_wrapper(examples, tokenizer), batched=True, remove_columns=eval_dataset['train'].column_names)\n",
    "        train_dataset = train_dataset.map(lambda examples: tokenize_and_align_labels_wrapper(examples, tokenizer), batched=True, remove_columns=train_dataset['train'].column_names)\n",
    "\n",
    "        # split_dataset = eval_dataset['train'].train_test_split(test_size=0.5)\n",
    "\n",
    "\n",
    "        # Define the training arguments\n",
    "        training_args = TrainingArguments(\n",
    "            output_dir=model_config['output_model_dir'], # path of aft-ft\n",
    "            overwrite_output_dir=True,\n",
    "            per_device_train_batch_size= model_config['batch_size'],\n",
    "            per_device_eval_batch_size= model_config['batch_size'],\n",
    "            evaluation_strategy=\"epoch\",\n",
    "            save_strategy=\"epoch\",\n",
    "            load_best_model_at_end=True,\n",
    "            metric_for_best_model=\"f1\",\n",
    "            learning_rate=model_config['learning_rate'],\n",
    "            num_train_epochs=model_config['epochs'],\n",
    "            logging_strategy=\"epoch\",\n",
    "        )\n",
    "\n",
    "        # Initialize the Trainer\n",
    "        trainer = Trainer(\n",
    "            model=model,\n",
    "            args=training_args,\n",
    "            train_dataset=train_dataset['train'],\n",
    "            eval_dataset=eval_dataset['train'],\n",
    "            data_collator=data_collator,\n",
    "            compute_metrics=TrainingMonitor().compute_metrics_factory(eval_word_ids, fold_no, eval_dataset_name=model_config['eval_dataset_name'], model_name=model_config['model_name']),\n",
    "            callbacks=[EarlyStoppingCallback(early_stopping_patience=5, early_stopping_threshold=0.005)]\n",
    "        )\n",
    "        \n",
    "        # print(\"Save tokenizer to:\", model_config['output_model_dir'])\n",
    "        # tokenizer.save_pretrained(model_config['output_model_dir'])\n",
    "\n",
    "        trainer.train()\n",
    "\n",
    "        # print(\"Save model to:\", model_config['output_model_dir'])\n",
    "        # model.save_pretrained(model_config['output_model_dir'])\n",
    "        \n",
    "        # Evaluate model\n",
    "        trainer.evaluate(eval_dataset['train'])\n",
    "     \n",
    "    "
   ]
  },
  {
   "cell_type": "code",
   "execution_count": 38,
   "metadata": {},
   "outputs": [
    {
     "name": "stderr",
     "output_type": "stream",
     "text": [
      "Special tokens have been added in the vocabulary, make sure the associated word embeddings are fine-tuned or trained.\n",
      "Some weights of DebertaForTokenClassification were not initialized from the model checkpoint at models/models_deberta-ft_fold0-2024-06-15_19-38-53 and are newly initialized: ['classifier.weight', 'classifier.bias']\n",
      "You should probably TRAIN this model on a down-stream task to be able to use it for predictions and inference.\n"
     ]
    },
    {
     "name": "stdout",
     "output_type": "stream",
     "text": [
      "DatasetDict({\n",
      "    train: Dataset({\n",
      "        features: ['sentence', 'tag'],\n",
      "        num_rows: 98\n",
      "    })\n",
      "})\n"
     ]
    },
    {
     "data": {
      "application/vnd.jupyter.widget-view+json": {
       "model_id": "2c8b9bf1bbad426b8c1c397aa34aaa27",
       "version_major": 2,
       "version_minor": 0
      },
      "text/plain": [
       "Map:   0%|          | 0/98 [00:00<?, ? examples/s]"
      ]
     },
     "metadata": {},
     "output_type": "display_data"
    },
    {
     "data": {
      "application/vnd.jupyter.widget-view+json": {
       "model_id": "223a930230e641a5bf7a2cad0ef4a575",
       "version_major": 2,
       "version_minor": 0
      },
      "text/plain": [
       "Map:   0%|          | 0/99 [00:00<?, ? examples/s]"
      ]
     },
     "metadata": {},
     "output_type": "display_data"
    },
    {
     "name": "stderr",
     "output_type": "stream",
     "text": [
      "You're using a DebertaTokenizerFast tokenizer. Please note that with a fast tokenizer, using the `__call__` method is faster than using a method to encode the text followed by a call to the `pad` method to get a padded encoding.\n"
     ]
    },
    {
     "data": {
      "text/html": [
       "\n",
       "    <div>\n",
       "      \n",
       "      <progress value='200' max='1250' style='width:300px; height:20px; vertical-align: middle;'></progress>\n",
       "      [ 200/1250 00:30 < 02:44, 6.39 it/s, Epoch 8/50]\n",
       "    </div>\n",
       "    <table border=\"1\" class=\"dataframe\">\n",
       "  <thead>\n",
       " <tr style=\"text-align: left;\">\n",
       "      <th>Epoch</th>\n",
       "      <th>Training Loss</th>\n",
       "      <th>Validation Loss</th>\n",
       "      <th>Precision</th>\n",
       "      <th>Recall</th>\n",
       "      <th>F1</th>\n",
       "      <th>Accuracy</th>\n",
       "    </tr>\n",
       "  </thead>\n",
       "  <tbody>\n",
       "    <tr>\n",
       "      <td>1</td>\n",
       "      <td>1.021900</td>\n",
       "      <td>0.668551</td>\n",
       "      <td>0.653081</td>\n",
       "      <td>0.453030</td>\n",
       "      <td>0.439612</td>\n",
       "      <td>0.779158</td>\n",
       "    </tr>\n",
       "    <tr>\n",
       "      <td>2</td>\n",
       "      <td>0.462800</td>\n",
       "      <td>0.513307</td>\n",
       "      <td>0.785237</td>\n",
       "      <td>0.699753</td>\n",
       "      <td>0.724942</td>\n",
       "      <td>0.847695</td>\n",
       "    </tr>\n",
       "    <tr>\n",
       "      <td>3</td>\n",
       "      <td>0.315000</td>\n",
       "      <td>0.475822</td>\n",
       "      <td>0.791111</td>\n",
       "      <td>0.796024</td>\n",
       "      <td>0.787764</td>\n",
       "      <td>0.867735</td>\n",
       "    </tr>\n",
       "    <tr>\n",
       "      <td>4</td>\n",
       "      <td>0.228600</td>\n",
       "      <td>0.501002</td>\n",
       "      <td>0.790215</td>\n",
       "      <td>0.781557</td>\n",
       "      <td>0.783014</td>\n",
       "      <td>0.862124</td>\n",
       "    </tr>\n",
       "    <tr>\n",
       "      <td>5</td>\n",
       "      <td>0.165400</td>\n",
       "      <td>0.522789</td>\n",
       "      <td>0.800140</td>\n",
       "      <td>0.786378</td>\n",
       "      <td>0.783638</td>\n",
       "      <td>0.865331</td>\n",
       "    </tr>\n",
       "    <tr>\n",
       "      <td>6</td>\n",
       "      <td>0.128300</td>\n",
       "      <td>0.574458</td>\n",
       "      <td>0.800657</td>\n",
       "      <td>0.767751</td>\n",
       "      <td>0.775900</td>\n",
       "      <td>0.863727</td>\n",
       "    </tr>\n",
       "    <tr>\n",
       "      <td>7</td>\n",
       "      <td>0.094700</td>\n",
       "      <td>0.573541</td>\n",
       "      <td>0.803063</td>\n",
       "      <td>0.793258</td>\n",
       "      <td>0.788927</td>\n",
       "      <td>0.872946</td>\n",
       "    </tr>\n",
       "    <tr>\n",
       "      <td>8</td>\n",
       "      <td>0.055500</td>\n",
       "      <td>0.650165</td>\n",
       "      <td>0.811015</td>\n",
       "      <td>0.781193</td>\n",
       "      <td>0.786466</td>\n",
       "      <td>0.872545</td>\n",
       "    </tr>\n",
       "  </tbody>\n",
       "</table><p>"
      ],
      "text/plain": [
       "<IPython.core.display.HTML object>"
      ]
     },
     "metadata": {},
     "output_type": "display_data"
    },
    {
     "name": "stderr",
     "output_type": "stream",
     "text": [
      "/home/ozan/anaconda3/envs/lara-medh/lib/python3.12/site-packages/sklearn/metrics/_classification.py:1469: UndefinedMetricWarning: Precision and F-score are ill-defined and being set to 0.0 in labels with no predicted samples. Use `zero_division` parameter to control this behavior.\n",
      "  _warn_prf(average, modifier, msg_start, len(result))\n",
      "/home/ozan/anaconda3/envs/lara-medh/lib/python3.12/site-packages/sklearn/metrics/_classification.py:1469: UndefinedMetricWarning: Precision and F-score are ill-defined and being set to 0.0 in labels with no predicted samples. Use `zero_division` parameter to control this behavior.\n",
      "  _warn_prf(average, modifier, msg_start, len(result))\n",
      "/home/ozan/anaconda3/envs/lara-medh/lib/python3.12/site-packages/sklearn/metrics/_classification.py:1469: UndefinedMetricWarning: Precision and F-score are ill-defined and being set to 0.0 in labels with no predicted samples. Use `zero_division` parameter to control this behavior.\n",
      "  _warn_prf(average, modifier, msg_start, len(result))\n"
     ]
    },
    {
     "data": {
      "text/html": [
       "\n",
       "    <div>\n",
       "      \n",
       "      <progress value='25' max='25' style='width:300px; height:20px; vertical-align: middle;'></progress>\n",
       "      [25/25 00:00]\n",
       "    </div>\n",
       "    "
      ],
      "text/plain": [
       "<IPython.core.display.HTML object>"
      ]
     },
     "metadata": {},
     "output_type": "display_data"
    },
    {
     "name": "stderr",
     "output_type": "stream",
     "text": [
      "Special tokens have been added in the vocabulary, make sure the associated word embeddings are fine-tuned or trained.\n",
      "Some weights of DebertaForTokenClassification were not initialized from the model checkpoint at models/models_deberta-ft_fold0-2024-06-15_19-38-53 and are newly initialized: ['classifier.weight', 'classifier.bias']\n",
      "You should probably TRAIN this model on a down-stream task to be able to use it for predictions and inference.\n"
     ]
    },
    {
     "name": "stdout",
     "output_type": "stream",
     "text": [
      "DatasetDict({\n",
      "    train: Dataset({\n",
      "        features: ['sentence', 'tag'],\n",
      "        num_rows: 98\n",
      "    })\n",
      "})\n"
     ]
    },
    {
     "data": {
      "application/vnd.jupyter.widget-view+json": {
       "model_id": "0eac32180caf45d3b14d9101a1bb6436",
       "version_major": 2,
       "version_minor": 0
      },
      "text/plain": [
       "Map:   0%|          | 0/98 [00:00<?, ? examples/s]"
      ]
     },
     "metadata": {},
     "output_type": "display_data"
    },
    {
     "data": {
      "application/vnd.jupyter.widget-view+json": {
       "model_id": "049900fdd46144ebb11bb1d6d0afa82f",
       "version_major": 2,
       "version_minor": 0
      },
      "text/plain": [
       "Map:   0%|          | 0/99 [00:00<?, ? examples/s]"
      ]
     },
     "metadata": {},
     "output_type": "display_data"
    },
    {
     "name": "stderr",
     "output_type": "stream",
     "text": [
      "You're using a DebertaTokenizerFast tokenizer. Please note that with a fast tokenizer, using the `__call__` method is faster than using a method to encode the text followed by a call to the `pad` method to get a padded encoding.\n"
     ]
    },
    {
     "data": {
      "text/html": [
       "\n",
       "    <div>\n",
       "      \n",
       "      <progress value='250' max='1250' style='width:300px; height:20px; vertical-align: middle;'></progress>\n",
       "      [ 250/1250 00:56 < 03:47, 4.40 it/s, Epoch 10/50]\n",
       "    </div>\n",
       "    <table border=\"1\" class=\"dataframe\">\n",
       "  <thead>\n",
       " <tr style=\"text-align: left;\">\n",
       "      <th>Epoch</th>\n",
       "      <th>Training Loss</th>\n",
       "      <th>Validation Loss</th>\n",
       "      <th>Precision</th>\n",
       "      <th>Recall</th>\n",
       "      <th>F1</th>\n",
       "      <th>Accuracy</th>\n",
       "    </tr>\n",
       "  </thead>\n",
       "  <tbody>\n",
       "    <tr>\n",
       "      <td>1</td>\n",
       "      <td>1.065900</td>\n",
       "      <td>0.637648</td>\n",
       "      <td>0.509002</td>\n",
       "      <td>0.474688</td>\n",
       "      <td>0.475112</td>\n",
       "      <td>0.811808</td>\n",
       "    </tr>\n",
       "    <tr>\n",
       "      <td>2</td>\n",
       "      <td>0.546300</td>\n",
       "      <td>0.510361</td>\n",
       "      <td>0.738271</td>\n",
       "      <td>0.660886</td>\n",
       "      <td>0.687725</td>\n",
       "      <td>0.850759</td>\n",
       "    </tr>\n",
       "    <tr>\n",
       "      <td>3</td>\n",
       "      <td>0.352400</td>\n",
       "      <td>0.476539</td>\n",
       "      <td>0.734197</td>\n",
       "      <td>0.780452</td>\n",
       "      <td>0.754840</td>\n",
       "      <td>0.861419</td>\n",
       "    </tr>\n",
       "    <tr>\n",
       "      <td>4</td>\n",
       "      <td>0.245600</td>\n",
       "      <td>0.484643</td>\n",
       "      <td>0.739938</td>\n",
       "      <td>0.808660</td>\n",
       "      <td>0.768412</td>\n",
       "      <td>0.864699</td>\n",
       "    </tr>\n",
       "    <tr>\n",
       "      <td>5</td>\n",
       "      <td>0.186000</td>\n",
       "      <td>0.475350</td>\n",
       "      <td>0.776238</td>\n",
       "      <td>0.810206</td>\n",
       "      <td>0.788953</td>\n",
       "      <td>0.876179</td>\n",
       "    </tr>\n",
       "    <tr>\n",
       "      <td>6</td>\n",
       "      <td>0.128600</td>\n",
       "      <td>0.507870</td>\n",
       "      <td>0.761798</td>\n",
       "      <td>0.819230</td>\n",
       "      <td>0.784253</td>\n",
       "      <td>0.875359</td>\n",
       "    </tr>\n",
       "    <tr>\n",
       "      <td>7</td>\n",
       "      <td>0.100500</td>\n",
       "      <td>0.589126</td>\n",
       "      <td>0.746724</td>\n",
       "      <td>0.830212</td>\n",
       "      <td>0.779637</td>\n",
       "      <td>0.869619</td>\n",
       "    </tr>\n",
       "    <tr>\n",
       "      <td>8</td>\n",
       "      <td>0.071100</td>\n",
       "      <td>0.599184</td>\n",
       "      <td>0.754018</td>\n",
       "      <td>0.842164</td>\n",
       "      <td>0.787786</td>\n",
       "      <td>0.874539</td>\n",
       "    </tr>\n",
       "    <tr>\n",
       "      <td>9</td>\n",
       "      <td>0.077500</td>\n",
       "      <td>0.618495</td>\n",
       "      <td>0.757916</td>\n",
       "      <td>0.811972</td>\n",
       "      <td>0.778706</td>\n",
       "      <td>0.872899</td>\n",
       "    </tr>\n",
       "    <tr>\n",
       "      <td>10</td>\n",
       "      <td>0.042900</td>\n",
       "      <td>0.703558</td>\n",
       "      <td>0.760691</td>\n",
       "      <td>0.810662</td>\n",
       "      <td>0.776970</td>\n",
       "      <td>0.871669</td>\n",
       "    </tr>\n",
       "  </tbody>\n",
       "</table><p>"
      ],
      "text/plain": [
       "<IPython.core.display.HTML object>"
      ]
     },
     "metadata": {},
     "output_type": "display_data"
    },
    {
     "name": "stderr",
     "output_type": "stream",
     "text": [
      "/home/ozan/anaconda3/envs/lara-medh/lib/python3.12/site-packages/sklearn/metrics/_classification.py:1469: UndefinedMetricWarning: Precision and F-score are ill-defined and being set to 0.0 in labels with no predicted samples. Use `zero_division` parameter to control this behavior.\n",
      "  _warn_prf(average, modifier, msg_start, len(result))\n",
      "/home/ozan/anaconda3/envs/lara-medh/lib/python3.12/site-packages/sklearn/metrics/_classification.py:1469: UndefinedMetricWarning: Precision and F-score are ill-defined and being set to 0.0 in labels with no predicted samples. Use `zero_division` parameter to control this behavior.\n",
      "  _warn_prf(average, modifier, msg_start, len(result))\n",
      "/home/ozan/anaconda3/envs/lara-medh/lib/python3.12/site-packages/sklearn/metrics/_classification.py:1469: UndefinedMetricWarning: Precision and F-score are ill-defined and being set to 0.0 in labels with no predicted samples. Use `zero_division` parameter to control this behavior.\n",
      "  _warn_prf(average, modifier, msg_start, len(result))\n"
     ]
    },
    {
     "data": {
      "text/html": [
       "\n",
       "    <div>\n",
       "      \n",
       "      <progress value='25' max='25' style='width:300px; height:20px; vertical-align: middle;'></progress>\n",
       "      [25/25 00:00]\n",
       "    </div>\n",
       "    "
      ],
      "text/plain": [
       "<IPython.core.display.HTML object>"
      ]
     },
     "metadata": {},
     "output_type": "display_data"
    },
    {
     "name": "stderr",
     "output_type": "stream",
     "text": [
      "Special tokens have been added in the vocabulary, make sure the associated word embeddings are fine-tuned or trained.\n",
      "Some weights of DebertaForTokenClassification were not initialized from the model checkpoint at models/models_deberta-ft_fold0-2024-06-15_19-38-53 and are newly initialized: ['classifier.weight', 'classifier.bias']\n",
      "You should probably TRAIN this model on a down-stream task to be able to use it for predictions and inference.\n"
     ]
    },
    {
     "name": "stdout",
     "output_type": "stream",
     "text": [
      "DatasetDict({\n",
      "    train: Dataset({\n",
      "        features: ['sentence', 'tag'],\n",
      "        num_rows: 98\n",
      "    })\n",
      "})\n"
     ]
    },
    {
     "data": {
      "application/vnd.jupyter.widget-view+json": {
       "model_id": "163c5efc2f51448892bff014af341914",
       "version_major": 2,
       "version_minor": 0
      },
      "text/plain": [
       "Map:   0%|          | 0/98 [00:00<?, ? examples/s]"
      ]
     },
     "metadata": {},
     "output_type": "display_data"
    },
    {
     "data": {
      "application/vnd.jupyter.widget-view+json": {
       "model_id": "4b0afce91545411b998c1da2d239ff3f",
       "version_major": 2,
       "version_minor": 0
      },
      "text/plain": [
       "Map:   0%|          | 0/99 [00:00<?, ? examples/s]"
      ]
     },
     "metadata": {},
     "output_type": "display_data"
    },
    {
     "name": "stderr",
     "output_type": "stream",
     "text": [
      "You're using a DebertaTokenizerFast tokenizer. Please note that with a fast tokenizer, using the `__call__` method is faster than using a method to encode the text followed by a call to the `pad` method to get a padded encoding.\n"
     ]
    },
    {
     "data": {
      "text/html": [
       "\n",
       "    <div>\n",
       "      \n",
       "      <progress value='250' max='1250' style='width:300px; height:20px; vertical-align: middle;'></progress>\n",
       "      [ 250/1250 01:04 < 04:21, 3.82 it/s, Epoch 10/50]\n",
       "    </div>\n",
       "    <table border=\"1\" class=\"dataframe\">\n",
       "  <thead>\n",
       " <tr style=\"text-align: left;\">\n",
       "      <th>Epoch</th>\n",
       "      <th>Training Loss</th>\n",
       "      <th>Validation Loss</th>\n",
       "      <th>Precision</th>\n",
       "      <th>Recall</th>\n",
       "      <th>F1</th>\n",
       "      <th>Accuracy</th>\n",
       "    </tr>\n",
       "  </thead>\n",
       "  <tbody>\n",
       "    <tr>\n",
       "      <td>1</td>\n",
       "      <td>1.126000</td>\n",
       "      <td>0.645864</td>\n",
       "      <td>0.526669</td>\n",
       "      <td>0.452780</td>\n",
       "      <td>0.471884</td>\n",
       "      <td>0.802164</td>\n",
       "    </tr>\n",
       "    <tr>\n",
       "      <td>2</td>\n",
       "      <td>0.554300</td>\n",
       "      <td>0.521068</td>\n",
       "      <td>0.631878</td>\n",
       "      <td>0.573295</td>\n",
       "      <td>0.587682</td>\n",
       "      <td>0.831530</td>\n",
       "    </tr>\n",
       "    <tr>\n",
       "      <td>3</td>\n",
       "      <td>0.417700</td>\n",
       "      <td>0.484378</td>\n",
       "      <td>0.799872</td>\n",
       "      <td>0.682771</td>\n",
       "      <td>0.723259</td>\n",
       "      <td>0.850464</td>\n",
       "    </tr>\n",
       "    <tr>\n",
       "      <td>4</td>\n",
       "      <td>0.275100</td>\n",
       "      <td>0.470394</td>\n",
       "      <td>0.796639</td>\n",
       "      <td>0.755161</td>\n",
       "      <td>0.774179</td>\n",
       "      <td>0.865147</td>\n",
       "    </tr>\n",
       "    <tr>\n",
       "      <td>5</td>\n",
       "      <td>0.174800</td>\n",
       "      <td>0.492158</td>\n",
       "      <td>0.809359</td>\n",
       "      <td>0.776183</td>\n",
       "      <td>0.790320</td>\n",
       "      <td>0.867465</td>\n",
       "    </tr>\n",
       "    <tr>\n",
       "      <td>6</td>\n",
       "      <td>0.144800</td>\n",
       "      <td>0.507529</td>\n",
       "      <td>0.791086</td>\n",
       "      <td>0.771950</td>\n",
       "      <td>0.779192</td>\n",
       "      <td>0.867079</td>\n",
       "    </tr>\n",
       "    <tr>\n",
       "      <td>7</td>\n",
       "      <td>0.114900</td>\n",
       "      <td>0.549119</td>\n",
       "      <td>0.781748</td>\n",
       "      <td>0.770802</td>\n",
       "      <td>0.774625</td>\n",
       "      <td>0.864760</td>\n",
       "    </tr>\n",
       "    <tr>\n",
       "      <td>8</td>\n",
       "      <td>0.074300</td>\n",
       "      <td>0.602725</td>\n",
       "      <td>0.787101</td>\n",
       "      <td>0.783369</td>\n",
       "      <td>0.780567</td>\n",
       "      <td>0.867079</td>\n",
       "    </tr>\n",
       "    <tr>\n",
       "      <td>9</td>\n",
       "      <td>0.050200</td>\n",
       "      <td>0.644295</td>\n",
       "      <td>0.808243</td>\n",
       "      <td>0.758772</td>\n",
       "      <td>0.778160</td>\n",
       "      <td>0.869784</td>\n",
       "    </tr>\n",
       "    <tr>\n",
       "      <td>10</td>\n",
       "      <td>0.037100</td>\n",
       "      <td>0.668211</td>\n",
       "      <td>0.795076</td>\n",
       "      <td>0.788239</td>\n",
       "      <td>0.788516</td>\n",
       "      <td>0.869397</td>\n",
       "    </tr>\n",
       "  </tbody>\n",
       "</table><p>"
      ],
      "text/plain": [
       "<IPython.core.display.HTML object>"
      ]
     },
     "metadata": {},
     "output_type": "display_data"
    },
    {
     "name": "stderr",
     "output_type": "stream",
     "text": [
      "/home/ozan/anaconda3/envs/lara-medh/lib/python3.12/site-packages/sklearn/metrics/_classification.py:1469: UndefinedMetricWarning: Precision and F-score are ill-defined and being set to 0.0 in labels with no predicted samples. Use `zero_division` parameter to control this behavior.\n",
      "  _warn_prf(average, modifier, msg_start, len(result))\n",
      "/home/ozan/anaconda3/envs/lara-medh/lib/python3.12/site-packages/sklearn/metrics/_classification.py:1469: UndefinedMetricWarning: Precision and F-score are ill-defined and being set to 0.0 in labels with no predicted samples. Use `zero_division` parameter to control this behavior.\n",
      "  _warn_prf(average, modifier, msg_start, len(result))\n",
      "/home/ozan/anaconda3/envs/lara-medh/lib/python3.12/site-packages/sklearn/metrics/_classification.py:1469: UndefinedMetricWarning: Precision and F-score are ill-defined and being set to 0.0 in labels with no predicted samples. Use `zero_division` parameter to control this behavior.\n",
      "  _warn_prf(average, modifier, msg_start, len(result))\n",
      "/home/ozan/anaconda3/envs/lara-medh/lib/python3.12/site-packages/sklearn/metrics/_classification.py:1469: UndefinedMetricWarning: Precision and F-score are ill-defined and being set to 0.0 in labels with no predicted samples. Use `zero_division` parameter to control this behavior.\n",
      "  _warn_prf(average, modifier, msg_start, len(result))\n",
      "/home/ozan/anaconda3/envs/lara-medh/lib/python3.12/site-packages/sklearn/metrics/_classification.py:1469: UndefinedMetricWarning: Precision and F-score are ill-defined and being set to 0.0 in labels with no predicted samples. Use `zero_division` parameter to control this behavior.\n",
      "  _warn_prf(average, modifier, msg_start, len(result))\n",
      "/home/ozan/anaconda3/envs/lara-medh/lib/python3.12/site-packages/sklearn/metrics/_classification.py:1469: UndefinedMetricWarning: Precision and F-score are ill-defined and being set to 0.0 in labels with no predicted samples. Use `zero_division` parameter to control this behavior.\n",
      "  _warn_prf(average, modifier, msg_start, len(result))\n"
     ]
    },
    {
     "data": {
      "text/html": [
       "\n",
       "    <div>\n",
       "      \n",
       "      <progress value='25' max='25' style='width:300px; height:20px; vertical-align: middle;'></progress>\n",
       "      [25/25 00:00]\n",
       "    </div>\n",
       "    "
      ],
      "text/plain": [
       "<IPython.core.display.HTML object>"
      ]
     },
     "metadata": {},
     "output_type": "display_data"
    },
    {
     "name": "stderr",
     "output_type": "stream",
     "text": [
      "Special tokens have been added in the vocabulary, make sure the associated word embeddings are fine-tuned or trained.\n",
      "Some weights of DebertaForTokenClassification were not initialized from the model checkpoint at models/models_deberta-ft_fold0-2024-06-15_19-38-53 and are newly initialized: ['classifier.weight', 'classifier.bias']\n",
      "You should probably TRAIN this model on a down-stream task to be able to use it for predictions and inference.\n"
     ]
    },
    {
     "name": "stdout",
     "output_type": "stream",
     "text": [
      "DatasetDict({\n",
      "    train: Dataset({\n",
      "        features: ['sentence', 'tag'],\n",
      "        num_rows: 98\n",
      "    })\n",
      "})\n"
     ]
    },
    {
     "data": {
      "application/vnd.jupyter.widget-view+json": {
       "model_id": "751bf587196b4b9bb78cdd38916bad42",
       "version_major": 2,
       "version_minor": 0
      },
      "text/plain": [
       "Map:   0%|          | 0/98 [00:00<?, ? examples/s]"
      ]
     },
     "metadata": {},
     "output_type": "display_data"
    },
    {
     "data": {
      "application/vnd.jupyter.widget-view+json": {
       "model_id": "10b2b6c7d49b46bc9b827c60455e6571",
       "version_major": 2,
       "version_minor": 0
      },
      "text/plain": [
       "Map:   0%|          | 0/99 [00:00<?, ? examples/s]"
      ]
     },
     "metadata": {},
     "output_type": "display_data"
    },
    {
     "name": "stderr",
     "output_type": "stream",
     "text": [
      "You're using a DebertaTokenizerFast tokenizer. Please note that with a fast tokenizer, using the `__call__` method is faster than using a method to encode the text followed by a call to the `pad` method to get a padded encoding.\n"
     ]
    },
    {
     "data": {
      "text/html": [
       "\n",
       "    <div>\n",
       "      \n",
       "      <progress value='250' max='1250' style='width:300px; height:20px; vertical-align: middle;'></progress>\n",
       "      [ 250/1250 00:46 < 03:06, 5.37 it/s, Epoch 10/50]\n",
       "    </div>\n",
       "    <table border=\"1\" class=\"dataframe\">\n",
       "  <thead>\n",
       " <tr style=\"text-align: left;\">\n",
       "      <th>Epoch</th>\n",
       "      <th>Training Loss</th>\n",
       "      <th>Validation Loss</th>\n",
       "      <th>Precision</th>\n",
       "      <th>Recall</th>\n",
       "      <th>F1</th>\n",
       "      <th>Accuracy</th>\n",
       "    </tr>\n",
       "  </thead>\n",
       "  <tbody>\n",
       "    <tr>\n",
       "      <td>1</td>\n",
       "      <td>1.083000</td>\n",
       "      <td>0.712993</td>\n",
       "      <td>0.495756</td>\n",
       "      <td>0.469220</td>\n",
       "      <td>0.465074</td>\n",
       "      <td>0.786893</td>\n",
       "    </tr>\n",
       "    <tr>\n",
       "      <td>2</td>\n",
       "      <td>0.529800</td>\n",
       "      <td>0.565361</td>\n",
       "      <td>0.672878</td>\n",
       "      <td>0.527710</td>\n",
       "      <td>0.522018</td>\n",
       "      <td>0.819884</td>\n",
       "    </tr>\n",
       "    <tr>\n",
       "      <td>3</td>\n",
       "      <td>0.373900</td>\n",
       "      <td>0.475285</td>\n",
       "      <td>0.824747</td>\n",
       "      <td>0.666277</td>\n",
       "      <td>0.709533</td>\n",
       "      <td>0.848863</td>\n",
       "    </tr>\n",
       "    <tr>\n",
       "      <td>4</td>\n",
       "      <td>0.278700</td>\n",
       "      <td>0.492280</td>\n",
       "      <td>0.843830</td>\n",
       "      <td>0.720417</td>\n",
       "      <td>0.761463</td>\n",
       "      <td>0.859117</td>\n",
       "    </tr>\n",
       "    <tr>\n",
       "      <td>5</td>\n",
       "      <td>0.199400</td>\n",
       "      <td>0.475437</td>\n",
       "      <td>0.841813</td>\n",
       "      <td>0.773431</td>\n",
       "      <td>0.803883</td>\n",
       "      <td>0.870263</td>\n",
       "    </tr>\n",
       "    <tr>\n",
       "      <td>6</td>\n",
       "      <td>0.168400</td>\n",
       "      <td>0.532548</td>\n",
       "      <td>0.830252</td>\n",
       "      <td>0.771489</td>\n",
       "      <td>0.793372</td>\n",
       "      <td>0.869371</td>\n",
       "    </tr>\n",
       "    <tr>\n",
       "      <td>7</td>\n",
       "      <td>0.127700</td>\n",
       "      <td>0.531660</td>\n",
       "      <td>0.842473</td>\n",
       "      <td>0.770087</td>\n",
       "      <td>0.802510</td>\n",
       "      <td>0.875167</td>\n",
       "    </tr>\n",
       "    <tr>\n",
       "      <td>8</td>\n",
       "      <td>0.102500</td>\n",
       "      <td>0.602789</td>\n",
       "      <td>0.820838</td>\n",
       "      <td>0.784671</td>\n",
       "      <td>0.798704</td>\n",
       "      <td>0.865805</td>\n",
       "    </tr>\n",
       "    <tr>\n",
       "      <td>9</td>\n",
       "      <td>0.097900</td>\n",
       "      <td>0.593087</td>\n",
       "      <td>0.825124</td>\n",
       "      <td>0.788097</td>\n",
       "      <td>0.805212</td>\n",
       "      <td>0.873830</td>\n",
       "    </tr>\n",
       "    <tr>\n",
       "      <td>10</td>\n",
       "      <td>0.071000</td>\n",
       "      <td>0.643664</td>\n",
       "      <td>0.823367</td>\n",
       "      <td>0.790293</td>\n",
       "      <td>0.804285</td>\n",
       "      <td>0.870263</td>\n",
       "    </tr>\n",
       "  </tbody>\n",
       "</table><p>"
      ],
      "text/plain": [
       "<IPython.core.display.HTML object>"
      ]
     },
     "metadata": {},
     "output_type": "display_data"
    },
    {
     "name": "stderr",
     "output_type": "stream",
     "text": [
      "/home/ozan/anaconda3/envs/lara-medh/lib/python3.12/site-packages/sklearn/metrics/_classification.py:1469: UndefinedMetricWarning: Precision and F-score are ill-defined and being set to 0.0 in labels with no predicted samples. Use `zero_division` parameter to control this behavior.\n",
      "  _warn_prf(average, modifier, msg_start, len(result))\n",
      "/home/ozan/anaconda3/envs/lara-medh/lib/python3.12/site-packages/sklearn/metrics/_classification.py:1469: UndefinedMetricWarning: Precision and F-score are ill-defined and being set to 0.0 in labels with no predicted samples. Use `zero_division` parameter to control this behavior.\n",
      "  _warn_prf(average, modifier, msg_start, len(result))\n",
      "/home/ozan/anaconda3/envs/lara-medh/lib/python3.12/site-packages/sklearn/metrics/_classification.py:1469: UndefinedMetricWarning: Precision and F-score are ill-defined and being set to 0.0 in labels with no predicted samples. Use `zero_division` parameter to control this behavior.\n",
      "  _warn_prf(average, modifier, msg_start, len(result))\n",
      "/home/ozan/anaconda3/envs/lara-medh/lib/python3.12/site-packages/sklearn/metrics/_classification.py:1469: UndefinedMetricWarning: Precision and F-score are ill-defined and being set to 0.0 in labels with no predicted samples. Use `zero_division` parameter to control this behavior.\n",
      "  _warn_prf(average, modifier, msg_start, len(result))\n",
      "/home/ozan/anaconda3/envs/lara-medh/lib/python3.12/site-packages/sklearn/metrics/_classification.py:1469: UndefinedMetricWarning: Precision and F-score are ill-defined and being set to 0.0 in labels with no predicted samples. Use `zero_division` parameter to control this behavior.\n",
      "  _warn_prf(average, modifier, msg_start, len(result))\n",
      "/home/ozan/anaconda3/envs/lara-medh/lib/python3.12/site-packages/sklearn/metrics/_classification.py:1469: UndefinedMetricWarning: Precision and F-score are ill-defined and being set to 0.0 in labels with no predicted samples. Use `zero_division` parameter to control this behavior.\n",
      "  _warn_prf(average, modifier, msg_start, len(result))\n"
     ]
    },
    {
     "data": {
      "text/html": [
       "\n",
       "    <div>\n",
       "      \n",
       "      <progress value='25' max='25' style='width:300px; height:20px; vertical-align: middle;'></progress>\n",
       "      [25/25 00:00]\n",
       "    </div>\n",
       "    "
      ],
      "text/plain": [
       "<IPython.core.display.HTML object>"
      ]
     },
     "metadata": {},
     "output_type": "display_data"
    },
    {
     "name": "stderr",
     "output_type": "stream",
     "text": [
      "Special tokens have been added in the vocabulary, make sure the associated word embeddings are fine-tuned or trained.\n",
      "Some weights of DebertaForTokenClassification were not initialized from the model checkpoint at models/models_deberta-ft_fold0-2024-06-15_19-38-53 and are newly initialized: ['classifier.weight', 'classifier.bias']\n",
      "You should probably TRAIN this model on a down-stream task to be able to use it for predictions and inference.\n"
     ]
    },
    {
     "name": "stdout",
     "output_type": "stream",
     "text": [
      "DatasetDict({\n",
      "    train: Dataset({\n",
      "        features: ['sentence', 'tag'],\n",
      "        num_rows: 98\n",
      "    })\n",
      "})\n"
     ]
    },
    {
     "data": {
      "application/vnd.jupyter.widget-view+json": {
       "model_id": "a783209bc8f64ddb8e1d065e03bcd44c",
       "version_major": 2,
       "version_minor": 0
      },
      "text/plain": [
       "Map:   0%|          | 0/98 [00:00<?, ? examples/s]"
      ]
     },
     "metadata": {},
     "output_type": "display_data"
    },
    {
     "data": {
      "application/vnd.jupyter.widget-view+json": {
       "model_id": "d9ebc19402964206bc756ef4175f85dd",
       "version_major": 2,
       "version_minor": 0
      },
      "text/plain": [
       "Map:   0%|          | 0/99 [00:00<?, ? examples/s]"
      ]
     },
     "metadata": {},
     "output_type": "display_data"
    },
    {
     "name": "stderr",
     "output_type": "stream",
     "text": [
      "You're using a DebertaTokenizerFast tokenizer. Please note that with a fast tokenizer, using the `__call__` method is faster than using a method to encode the text followed by a call to the `pad` method to get a padded encoding.\n"
     ]
    },
    {
     "data": {
      "text/html": [
       "\n",
       "    <div>\n",
       "      \n",
       "      <progress value='225' max='1250' style='width:300px; height:20px; vertical-align: middle;'></progress>\n",
       "      [ 225/1250 00:33 < 02:35, 6.59 it/s, Epoch 9/50]\n",
       "    </div>\n",
       "    <table border=\"1\" class=\"dataframe\">\n",
       "  <thead>\n",
       " <tr style=\"text-align: left;\">\n",
       "      <th>Epoch</th>\n",
       "      <th>Training Loss</th>\n",
       "      <th>Validation Loss</th>\n",
       "      <th>Precision</th>\n",
       "      <th>Recall</th>\n",
       "      <th>F1</th>\n",
       "      <th>Accuracy</th>\n",
       "    </tr>\n",
       "  </thead>\n",
       "  <tbody>\n",
       "    <tr>\n",
       "      <td>1</td>\n",
       "      <td>1.102900</td>\n",
       "      <td>0.638470</td>\n",
       "      <td>0.483158</td>\n",
       "      <td>0.535899</td>\n",
       "      <td>0.507004</td>\n",
       "      <td>0.815081</td>\n",
       "    </tr>\n",
       "    <tr>\n",
       "      <td>2</td>\n",
       "      <td>0.575000</td>\n",
       "      <td>0.540618</td>\n",
       "      <td>0.606929</td>\n",
       "      <td>0.581383</td>\n",
       "      <td>0.564875</td>\n",
       "      <td>0.833932</td>\n",
       "    </tr>\n",
       "    <tr>\n",
       "      <td>3</td>\n",
       "      <td>0.393600</td>\n",
       "      <td>0.472247</td>\n",
       "      <td>0.777732</td>\n",
       "      <td>0.728486</td>\n",
       "      <td>0.730364</td>\n",
       "      <td>0.858618</td>\n",
       "    </tr>\n",
       "    <tr>\n",
       "      <td>4</td>\n",
       "      <td>0.297200</td>\n",
       "      <td>0.454442</td>\n",
       "      <td>0.817674</td>\n",
       "      <td>0.763456</td>\n",
       "      <td>0.779099</td>\n",
       "      <td>0.873878</td>\n",
       "    </tr>\n",
       "    <tr>\n",
       "      <td>5</td>\n",
       "      <td>0.216200</td>\n",
       "      <td>0.469670</td>\n",
       "      <td>0.810200</td>\n",
       "      <td>0.759713</td>\n",
       "      <td>0.777808</td>\n",
       "      <td>0.868492</td>\n",
       "    </tr>\n",
       "    <tr>\n",
       "      <td>6</td>\n",
       "      <td>0.148000</td>\n",
       "      <td>0.498814</td>\n",
       "      <td>0.837533</td>\n",
       "      <td>0.727632</td>\n",
       "      <td>0.764981</td>\n",
       "      <td>0.873429</td>\n",
       "    </tr>\n",
       "    <tr>\n",
       "      <td>7</td>\n",
       "      <td>0.119800</td>\n",
       "      <td>0.554434</td>\n",
       "      <td>0.835743</td>\n",
       "      <td>0.730005</td>\n",
       "      <td>0.768846</td>\n",
       "      <td>0.868941</td>\n",
       "    </tr>\n",
       "    <tr>\n",
       "      <td>8</td>\n",
       "      <td>0.109400</td>\n",
       "      <td>0.523291</td>\n",
       "      <td>0.791129</td>\n",
       "      <td>0.774618</td>\n",
       "      <td>0.780376</td>\n",
       "      <td>0.876122</td>\n",
       "    </tr>\n",
       "    <tr>\n",
       "      <td>9</td>\n",
       "      <td>0.075100</td>\n",
       "      <td>0.563189</td>\n",
       "      <td>0.803181</td>\n",
       "      <td>0.769445</td>\n",
       "      <td>0.781387</td>\n",
       "      <td>0.877917</td>\n",
       "    </tr>\n",
       "  </tbody>\n",
       "</table><p>"
      ],
      "text/plain": [
       "<IPython.core.display.HTML object>"
      ]
     },
     "metadata": {},
     "output_type": "display_data"
    },
    {
     "name": "stderr",
     "output_type": "stream",
     "text": [
      "/home/ozan/anaconda3/envs/lara-medh/lib/python3.12/site-packages/sklearn/metrics/_classification.py:1469: UndefinedMetricWarning: Precision and F-score are ill-defined and being set to 0.0 in labels with no predicted samples. Use `zero_division` parameter to control this behavior.\n",
      "  _warn_prf(average, modifier, msg_start, len(result))\n",
      "/home/ozan/anaconda3/envs/lara-medh/lib/python3.12/site-packages/sklearn/metrics/_classification.py:1469: UndefinedMetricWarning: Precision and F-score are ill-defined and being set to 0.0 in labels with no predicted samples. Use `zero_division` parameter to control this behavior.\n",
      "  _warn_prf(average, modifier, msg_start, len(result))\n",
      "/home/ozan/anaconda3/envs/lara-medh/lib/python3.12/site-packages/sklearn/metrics/_classification.py:1469: UndefinedMetricWarning: Precision and F-score are ill-defined and being set to 0.0 in labels with no predicted samples. Use `zero_division` parameter to control this behavior.\n",
      "  _warn_prf(average, modifier, msg_start, len(result))\n",
      "/home/ozan/anaconda3/envs/lara-medh/lib/python3.12/site-packages/sklearn/metrics/_classification.py:1469: UndefinedMetricWarning: Precision and F-score are ill-defined and being set to 0.0 in labels with no predicted samples. Use `zero_division` parameter to control this behavior.\n",
      "  _warn_prf(average, modifier, msg_start, len(result))\n",
      "/home/ozan/anaconda3/envs/lara-medh/lib/python3.12/site-packages/sklearn/metrics/_classification.py:1469: UndefinedMetricWarning: Precision and F-score are ill-defined and being set to 0.0 in labels with no predicted samples. Use `zero_division` parameter to control this behavior.\n",
      "  _warn_prf(average, modifier, msg_start, len(result))\n",
      "/home/ozan/anaconda3/envs/lara-medh/lib/python3.12/site-packages/sklearn/metrics/_classification.py:1469: UndefinedMetricWarning: Precision and F-score are ill-defined and being set to 0.0 in labels with no predicted samples. Use `zero_division` parameter to control this behavior.\n",
      "  _warn_prf(average, modifier, msg_start, len(result))\n"
     ]
    },
    {
     "data": {
      "text/html": [
       "\n",
       "    <div>\n",
       "      \n",
       "      <progress value='25' max='25' style='width:300px; height:20px; vertical-align: middle;'></progress>\n",
       "      [25/25 00:00]\n",
       "    </div>\n",
       "    "
      ],
      "text/plain": [
       "<IPython.core.display.HTML object>"
      ]
     },
     "metadata": {},
     "output_type": "display_data"
    }
   ],
   "source": [
    "# eval_dataset_name = 'mtsamples2'\n",
    "model_names = ['deberta-ft-aft-ft'] #['biobert-mt', 'scibert-mt', 'bluebert-mt', 'bert-mt', 'bertclinical-mt', 'bioclinicalbert-mt', 'deberta-mt']\n",
    "model_checkpoints = ['models/models_deberta-ft_fold0-2024-06-15_19-38-53'] #['monologg/biobert_v1.1_pubmed'] #['allenai/scibert_scivocab_uncased', 'bionlp/bluebert_pubmed_uncased_L-24_H-1024_A-16', 'google-bert/bert-base-uncased', 'samrawal/bert-base-uncased_clinical-ner' ,'emilyalsentzer/Bio_ClinicalBERT', 'microsoft/deberta-base']\n",
    "for model_name, model_checkpoint in zip(model_names, model_checkpoints):\n",
    "\n",
    "    model_config = dict(\n",
    "        train_dataset_name='cross-validation',\n",
    "        eval_dataset_name = 'cross-validation',\n",
    "        checkpoint_path = model_checkpoint, #\"models/models_deberta-finetuned-ner_fold0_checkpoint-4710-2024-04-29_22-20-58\", #'models/deberta-finetuned-ner/fold0/checkpoint-4710', #f'models/models_bert-ft-ft-2024-04-22_20-49-48', # \"models/bert-finetuned-ner/fold0/checkpoint-2826\", # f'models/models_bert-finetuned-ner_fold0_checkpoint-4710-2024-04-11_11-37-04',\n",
    "        epochs = 50,\n",
    "        batch_size = 4,\n",
    "        learning_rate = 1e-5,\n",
    "        fold_range = range(5, 10),\n",
    "        model_name = model_name,\n",
    "        output_model_dir = f'models/{model_name}' \n",
    "        )\n",
    "        \n",
    "    train_model(model_config)"
   ]
  },
  {
   "cell_type": "code",
   "execution_count": 78,
   "metadata": {},
   "outputs": [
    {
     "data": {
      "image/png": "[encoded data removed]",
      "text/plain": [
       "<Figure size 1000x600 with 1 Axes>"
      ]
     },
     "metadata": {},
     "output_type": "display_data"
    }
   ],
   "source": [
    "import matplotlib.pyplot as plt\n",
    "\n",
    "# Data\n",
    "epochs = [1, 2, 3, 4, 5, 6, 7, 8, 9, 10, 11, 12, 13, 14, 15, 16]\n",
    "validation_loss = [0.793684, 0.531887, 0.467905, 0.432901, 0.448712, 0.459855, 0.469496, 0.501452, 0.514860, 0.546255, 0.561048, 0.628652, 0.619776, 0.621651, 0.667586, 0.689805]\n",
    "f1_score = [0.195125, 0.438177, 0.678420, 0.754222, 0.749447, 0.758489, 0.757612, 0.779846, 0.768259, 0.755781, 0.791562, 0.774690, 0.763073, 0.768807, 0.784362, 0.780769]\n",
    "\n",
    "# Plotting\n",
    "plt.figure(figsize=(10, 6))\n",
    "plt.plot(epochs, validation_loss, label='Validation Loss')\n",
    "plt.plot(epochs, f1_score, label='F1 Score')\n",
    "\n",
    "plt.title('Validation Loss and F1 Score per Epoch')\n",
    "plt.xlabel('Epoch')\n",
    "plt.ylabel('Loss / F1 Score')\n",
    "plt.legend()\n",
    "\n",
    "plt.show()"
   ]
  },
  {
   "cell_type": "markdown",
   "metadata": {},
   "source": [
    "# Model Comparison: 5x2cv"
   ]
  },
  {
   "cell_type": "code",
   "execution_count": 134,
   "metadata": {},
   "outputs": [],
   "source": [
    "# # generate 5 different train-test data. Shuffle and split 5 times.\n",
    "# import pandas as pd\n",
    "# from sklearn.model_selection import ShuffleSplit\n",
    "\n",
    "# # Let's assume you have a pandas DataFrame called 'df' with your dataset.\n",
    "# data1 = pd.read_csv('data/processed/mtsamples2/mtsamples_extra.csv')\n",
    "# data2 = pd.read_csv(\"data/processed/mtsamples2/final_eval.csv\")\n",
    "# df = pd.concat([data1, data2])\n",
    "\n",
    "\n",
    "# # Define the ShuffleSplit object to split the data into 2 parts, for 5 splits\n",
    "# ss = ShuffleSplit(n_splits=5, test_size=0.5, random_state=0)\n",
    "\n",
    "# # This will shuffle and split the data 5 times\n",
    "# for fold, (train_index, test_index) in enumerate(ss.split(df)):\n",
    "#     # Split the data\n",
    "#     train_set = df.iloc[train_index]\n",
    "#     test_set = df.iloc[test_index]\n",
    "    \n",
    "#     # Save each fold to CSV\n",
    "#     train_set.to_csv(f'data/processed/cross-validation/train_fold_{fold}.csv', index=False)\n",
    "#     test_set.to_csv(f'data/processed/cross-validation/test_fold_{fold}.csv', index=False)"
   ]
  },
  {
   "cell_type": "code",
   "execution_count": 23,
   "metadata": {},
   "outputs": [
    {
     "name": "stdout",
     "output_type": "stream",
     "text": [
      "[0.762, 0.745, 0.8, 0.735, 0.772, 0.718, 0.761, 0.763, 0.744, 0.747]\n",
      "[0.9278379730960091, 0.9198306621921345, 0.9217432140509063, 0.9117478312695445, 0.9110813980958032, 0.8999021780854146, 0.9033000527240529, 0.911642198702629, 0.9167177455728741, 0.9156476328682501]\n"
     ]
    }
   ],
   "source": [
    "# save scores\n",
    "import json\n",
    "import os\n",
    "import numpy as np\n",
    "import pandas as pd\n",
    "# This is the base directory where your fold reports are located.\n",
    "dataset_name = 'cross-validation'\n",
    "base_dir = f'analysis/{dataset_name}/reports'  \n",
    "# Initialize dictionaries to hold all the metric values from each fold.\n",
    "binary_metrics = {\n",
    "    'O': {'precision': [], 'recall': [], 'f1-score': []},\n",
    "    'I': {'precision': [], 'recall': [], 'f1-score': []},\n",
    "    'macro avg': {'precision': [], 'recall': [], 'f1-score': []},\n",
    "    'weighted avg': {'precision': [], 'recall': [], 'f1-score': []}\n",
    "}\n",
    "\n",
    "multiclass_metrics = {\n",
    "    \"macro avg\": {'precision': [], 'recall': [], 'f1-score': []},\n",
    "    \"weighted avg\": {'precision': [], 'recall': [], 'f1-score': []},\n",
    "    \"macro_wo_O\": {'precision': [], 'recall': [], 'f1-score': []}\n",
    "\n",
    "}\n",
    "\n",
    "# Process each fold\n",
    "for fold in range(10):\n",
    "    fold_dir = os.path.join(base_dir, f'fold{fold}')\n",
    "\n",
    "    # Load binary classification report\n",
    "    with open(os.path.join(fold_dir, 'binary_classification_report.json'), 'r') as f:\n",
    "        binary_report = json.load(f)\n",
    "        for category in binary_metrics.keys():\n",
    "            for metric in binary_metrics[category].keys():\n",
    "                binary_metrics[category][metric].append(binary_report[category][metric])\n",
    "\n",
    "    # Load multiclass classification report\n",
    "    multi_df = pd.read_json(os.path.join(fold_dir, 'multiclass_classification_report.json'))\n",
    "  \n",
    "    # with open(os.path.join(fold_dir, 'multiclass_classification_report.json'), 'r') as f:\n",
    "    multiclass_report = multi_df.T.to_dict()\n",
    "    # print(multiclass_report)\n",
    "\n",
    "    for category in multiclass_metrics.keys():\n",
    "\n",
    "        for metric in multiclass_metrics[category].keys():\n",
    "            multiclass_metrics[category][metric].append(multiclass_report[category][metric])\n",
    "\n",
    "print(multiclass_metrics['macro_wo_O']['f1-score'])\n",
    "print(binary_metrics['macro avg']['f1-score'])\n",
    "\n",
    "# rearrange array\n",
    "def rearrange_array(array):\n",
    "    return [x for pair in zip(array[:5], array[5:]) for x in pair]\n",
    "\n",
    "import pickle\n",
    "with open('analysis/statistical_test/bc_multiclass_scores.pkl', 'wb') as f:\n",
    "   pickle.dump(rearrange_array(multiclass_metrics['macro_wo_O']['f1-score']), f)\n",
    "\n",
    "with open('analysis/statistical_test/bc_binary_scores.pkl', 'wb') as f:\n",
    "   pickle.dump(rearrange_array(binary_metrics['macro avg']['f1-score']), f)\n",
    "\n",
    "\n"
   ]
  },
  {
   "cell_type": "code",
   "execution_count": 24,
   "metadata": {},
   "outputs": [],
   "source": [
    "from scipy import stats\n",
    "def combined_ftest_5x2cv(scores1, scores2):\n",
    "    \"\"\"Perform the Combined 5x2CV F-test on two sets of\n",
    "    model scores to compare their performance.\n",
    "\n",
    "    Assume R1CV1, R1CV2, R2CV1 ... order\n",
    "    where R1CV1 is cross-validation repeat 1 and split 1\n",
    "    Args:\n",
    "        scores1 (list): Regressor 1 scores on the splits\n",
    "        scores2 (list): Regressor 2 scores on the splits\n",
    "    Returns:\n",
    "        f_stat (float): The F-statistic\n",
    "        pvalue (float):  If the chosen significance level is larger than\n",
    "        the p-value, we reject the null hypothesis and accept that\n",
    "        there are significant differences in the two compared models.\n",
    "    \"\"\"\n",
    "    variances = []\n",
    "    differences = []\n",
    "    for i in range(5):\n",
    "        scores_diff1 = scores1[i * 2] - scores2[i * 2]\n",
    "        scores_diff2 = scores1[i * 2 + 1] - scores2[i * 2 + 1]\n",
    "        score_mean = (scores_diff1 + scores_diff2) / 2.0\n",
    "        score_var = (scores_diff1 - score_mean) ** 2 + \\\n",
    "            (scores_diff2 - score_mean) ** 2\n",
    "\n",
    "        differences.extend([scores_diff1**2, scores_diff2**2])\n",
    "        variances.append(score_var)\n",
    "\n",
    "    numerator = sum(differences)\n",
    "    denominator = 2 * (sum(variances))\n",
    "    f_stat = numerator / denominator\n",
    "\n",
    "    pvalue = stats.f.sf(f_stat, 10, 5)\n",
    "    return float(f_stat), float(pvalue)"
   ]
  },
  {
   "cell_type": "code",
   "execution_count": 25,
   "metadata": {},
   "outputs": [
    {
     "name": "stdout",
     "output_type": "stream",
     "text": [
      "multi: 0.7547 0.02125111761766898\n",
      "binary: 0.9139450886657619 0.007924022651601064\n",
      "T-statistic: -0.9215634330884481\n",
      "P-value: 0.38079647345525747\n"
     ]
    }
   ],
   "source": [
    "scores1 = pd.read_pickle('analysis/statistical_test/bc_multiclass_scores.pkl')\n",
    "scores2 = pd.read_pickle('analysis/statistical_test/bc_binary_scores.pkl')\n",
    "\n",
    "# f_stat, p_val = combined_ftest_5x2cv(scores1, scores2)\n",
    "# print(f_stat)\n",
    "# print(p_val)\n",
    "\n",
    "print(\"multi:\", np.mean(scores1), np.std(scores1))\n",
    "print(\"binary:\", np.mean(scores2), np.std(scores2))\n",
    "scores1= [0.781, 0.766, 0.8130000000000001, 0.751, 0.782, 0.742, 0.791, 0.79, 0.754, 0.798]\n",
    "scores2 = [0.797, 0.767, 0.8260000000000001, 0.751, 0.798, 0.771, 0.773, 0.782, 0.773, 0.778]\n",
    "\n",
    "# # [0.9209982970585537, 0.922257053291536, 0.9292719504258511, 0.9098580736089483, 0.9181765860647222, 0.9016029038038252, 0.906292184767725, 0.9083861375623916, 0.9101304607361893, 0.9243926080724805]\n",
    "# # Performing the paired t-test\n",
    "t_statistic, p_value = stats.ttest_rel(scores1, scores2)\n",
    "\n",
    "print(\"T-statistic:\", t_statistic)\n",
    "print(\"P-value:\", p_value)"
   ]
  }
 ],
 "metadata": {
  "kernelspec": {
   "display_name": "lara-medh",
   "language": "python",
   "name": "python3"
  },
  "language_info": {
   "codemirror_mode": {
    "name": "ipython",
    "version": 3
   },
   "file_extension": ".py",
   "mimetype": "text/x-python",
   "name": "python",
   "nbconvert_exporter": "python",
   "pygments_lexer": "ipython3",
   "version": "3.12.2"
  }
 },
 "nbformat": 4,
 "nbformat_minor": 2
}
