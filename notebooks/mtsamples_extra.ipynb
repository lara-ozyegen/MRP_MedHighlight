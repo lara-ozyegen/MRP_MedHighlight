{
 "cells": [
  {
   "cell_type": "code",
   "execution_count": 1,
   "metadata": {},
   "outputs": [],
   "source": [
    "import pandas as pd"
   ]
  },
  {
   "cell_type": "code",
   "execution_count": 2,
   "metadata": {},
   "outputs": [],
   "source": [
    "# read csv\n",
    "df = pd.read_csv(\"data/raw/mtsamples.csv\")\n",
    "df= df.drop('Unnamed: 0', axis=1)\n",
    "df = df[\"description\"].sample(frac=1, random_state=42).reset_index(drop=True)"
   ]
  },
  {
   "cell_type": "code",
   "execution_count": 3,
   "metadata": {},
   "outputs": [
    {
     "data": {
      "text/plain": [
       "'data/processed/mtsamples2/unsupervised_mtsamples.txt'"
      ]
     },
     "execution_count": 3,
     "metadata": {},
     "output_type": "execute_result"
    }
   ],
   "source": [
    "# read csv\n",
    "df = pd.read_csv(\"data/raw/mtsamples.csv\")\n",
    "df= df.drop('Unnamed: 0', axis=1)\n",
    "df = df[\"description\"].sample(frac=1, random_state=42).reset_index(drop=True)\n",
    "\n",
    "# Write the description to a TXT file\n",
    "description_file_path = \"data/processed/mtsamples2/unsupervised_mtsamples.txt\"\n",
    "with open(description_file_path, \"w\") as txt_file:\n",
    "    for description in df:\n",
    "        txt_file.write(description + '\\n')\n",
    "\n",
    "description_file_path\n"
   ]
  },
  {
   "cell_type": "code",
   "execution_count": 71,
   "metadata": {},
   "outputs": [
    {
     "data": {
      "text/html": [
       "<div>\n",
       "<style scoped>\n",
       "    .dataframe tbody tr th:only-of-type {\n",
       "        vertical-align: middle;\n",
       "    }\n",
       "\n",
       "    .dataframe tbody tr th {\n",
       "        vertical-align: top;\n",
       "    }\n",
       "\n",
       "    .dataframe thead th {\n",
       "        text-align: right;\n",
       "    }\n",
       "</style>\n",
       "<table border=\"1\" class=\"dataframe\">\n",
       "  <thead>\n",
       "    <tr style=\"text-align: right;\">\n",
       "      <th></th>\n",
       "      <th>description</th>\n",
       "    </tr>\n",
       "  </thead>\n",
       "  <tbody>\n",
       "    <tr>\n",
       "      <th>0</th>\n",
       "      <td>An example/template for meatotomy.</td>\n",
       "    </tr>\n",
       "    <tr>\n",
       "      <th>1</th>\n",
       "      <td>Normal physical exam template.  Normal appear...</td>\n",
       "    </tr>\n",
       "    <tr>\n",
       "      <th>2</th>\n",
       "      <td>Neurologic consultation was requested to asse...</td>\n",
       "    </tr>\n",
       "    <tr>\n",
       "      <th>3</th>\n",
       "      <td>Multiple sharp force injuries, involving ches...</td>\n",
       "    </tr>\n",
       "    <tr>\n",
       "      <th>4</th>\n",
       "      <td>The patient with atypical type right arm disc...</td>\n",
       "    </tr>\n",
       "    <tr>\n",
       "      <th>...</th>\n",
       "      <td>...</td>\n",
       "    </tr>\n",
       "    <tr>\n",
       "      <th>95</th>\n",
       "      <td>Ophthalmology followup visit note.</td>\n",
       "    </tr>\n",
       "    <tr>\n",
       "      <th>96</th>\n",
       "      <td>Possible CSF malignancy.  This is an 83-year-...</td>\n",
       "    </tr>\n",
       "    <tr>\n",
       "      <th>97</th>\n",
       "      <td>Infection (folliculitis), pelvic pain, mood s...</td>\n",
       "    </tr>\n",
       "    <tr>\n",
       "      <th>98</th>\n",
       "      <td>Hematemesis in a patient with longstanding di...</td>\n",
       "    </tr>\n",
       "    <tr>\n",
       "      <th>99</th>\n",
       "      <td>True cut needle biopsy of the breast.  This 6...</td>\n",
       "    </tr>\n",
       "  </tbody>\n",
       "</table>\n",
       "<p>100 rows × 1 columns</p>\n",
       "</div>"
      ],
      "text/plain": [
       "                                          description\n",
       "0                  An example/template for meatotomy.\n",
       "1    Normal physical exam template.  Normal appear...\n",
       "2    Neurologic consultation was requested to asse...\n",
       "3    Multiple sharp force injuries, involving ches...\n",
       "4    The patient with atypical type right arm disc...\n",
       "..                                                ...\n",
       "95                 Ophthalmology followup visit note.\n",
       "96   Possible CSF malignancy.  This is an 83-year-...\n",
       "97   Infection (folliculitis), pelvic pain, mood s...\n",
       "98   Hematemesis in a patient with longstanding di...\n",
       "99   True cut needle biopsy of the breast.  This 6...\n",
       "\n",
       "[100 rows x 1 columns]"
      ]
     },
     "execution_count": 71,
     "metadata": {},
     "output_type": "execute_result"
    }
   ],
   "source": [
    "df = pd.DataFrame(df)\n",
    "df[:100]"
   ]
  },
  {
   "cell_type": "code",
   "execution_count": 73,
   "metadata": {},
   "outputs": [
    {
     "data": {
      "text/plain": [
       "' Newly diagnosed mantle cell lymphoma, admitted now to start chemotherapy.  She will start treatment with hyperfractionated cyclophosphamide, vincristine, doxorubicin, dexamethasone.'"
      ]
     },
     "execution_count": 73,
     "metadata": {},
     "output_type": "execute_result"
    }
   ],
   "source": [
    "df.iloc[110]['description']"
   ]
  },
  {
   "cell_type": "code",
   "execution_count": 76,
   "metadata": {},
   "outputs": [
    {
     "data": {
      "text/plain": [
       "'data/processed/mtsamples/medical_texts_tags.docx'"
      ]
     },
     "execution_count": 76,
     "metadata": {},
     "output_type": "execute_result"
    }
   ],
   "source": [
    "from docx import Document\n",
    "\n",
    "# Create a new Word document\n",
    "doc = Document()\n",
    "# Add each description to the Word document\n",
    "for index, row in df[:200].iterrows():\n",
    "    doc.add_paragraph(f\"{row['description']}\\n\")\n",
    "\n",
    "# Save the document\n",
    "\n",
    "doc.save(word_file_path)\n",
    "\n",
    "word_file_path\n"
   ]
  },
  {
   "cell_type": "code",
   "execution_count": 77,
   "metadata": {},
   "outputs": [
    {
     "data": {
      "text/plain": [
       "'data/processed/mtsamples/medical_texts_tags.docx'"
      ]
     },
     "execution_count": 77,
     "metadata": {},
     "output_type": "execute_result"
    }
   ],
   "source": [
    "import pandas as pd\n",
    "from docx import Document\n",
    "import string\n",
    "import re\n",
    "\n",
    "# Assuming df is your DataFrame\n",
    "# Define the punctuation to modify, excluding hyphens\n",
    "modified_punctuation = string.punctuation.replace('-', '')\n",
    "\n",
    "# Function to add space around punctuation\n",
    "def add_space_around_punctuation(text):\n",
    "    for punct in modified_punctuation:\n",
    "        text = text.replace(punct, f' {punct} ')\n",
    "    return re.sub(r'\\s{2,}', ' ', text)  # Replace multiple spaces with a single space\n",
    "\n",
    "# Apply the function to each description\n",
    "df['description'] = df['description'].apply(add_space_around_punctuation)\n",
    "\n",
    "# Create a new Word document\n",
    "doc = Document()\n",
    "\n",
    "# Add each modified description to the Word document\n",
    "for index, row in df[:200].iterrows():  # Adjusted to use df directly after modification\n",
    "    doc.add_paragraph(f\"{row['description']}\\n\")\n",
    "    \n",
    "word_file_path = 'data/processed/mtsamples/medical_texts_tags.docx'\n",
    "doc.save(word_file_path)\n",
    "\n",
    "word_file_path\n"
   ]
  },
  {
   "cell_type": "code",
   "execution_count": 52,
   "metadata": {},
   "outputs": [
    {
     "data": {
      "text/html": [
       "<div>\n",
       "<style scoped>\n",
       "    .dataframe tbody tr th:only-of-type {\n",
       "        vertical-align: middle;\n",
       "    }\n",
       "\n",
       "    .dataframe tbody tr th {\n",
       "        vertical-align: top;\n",
       "    }\n",
       "\n",
       "    .dataframe thead th {\n",
       "        text-align: right;\n",
       "    }\n",
       "</style>\n",
       "<table border=\"1\" class=\"dataframe\">\n",
       "  <thead>\n",
       "    <tr style=\"text-align: right;\">\n",
       "      <th></th>\n",
       "      <th>description</th>\n",
       "    </tr>\n",
       "  </thead>\n",
       "  <tbody>\n",
       "    <tr>\n",
       "      <th>0</th>\n",
       "      <td>An example/template for meatotomy.</td>\n",
       "    </tr>\n",
       "    <tr>\n",
       "      <th>1</th>\n",
       "      <td>Normal physical exam template.  Normal appear...</td>\n",
       "    </tr>\n",
       "    <tr>\n",
       "      <th>2</th>\n",
       "      <td>Neurologic consultation was requested to asse...</td>\n",
       "    </tr>\n",
       "    <tr>\n",
       "      <th>3</th>\n",
       "      <td>Multiple sharp force injuries, involving ches...</td>\n",
       "    </tr>\n",
       "    <tr>\n",
       "      <th>4</th>\n",
       "      <td>The patient with atypical type right arm disc...</td>\n",
       "    </tr>\n",
       "    <tr>\n",
       "      <th>...</th>\n",
       "      <td>...</td>\n",
       "    </tr>\n",
       "    <tr>\n",
       "      <th>95</th>\n",
       "      <td>Ophthalmology followup visit note.</td>\n",
       "    </tr>\n",
       "    <tr>\n",
       "      <th>96</th>\n",
       "      <td>Possible CSF malignancy.  This is an 83-year-...</td>\n",
       "    </tr>\n",
       "    <tr>\n",
       "      <th>97</th>\n",
       "      <td>Infection (folliculitis), pelvic pain, mood s...</td>\n",
       "    </tr>\n",
       "    <tr>\n",
       "      <th>98</th>\n",
       "      <td>Hematemesis in a patient with longstanding di...</td>\n",
       "    </tr>\n",
       "    <tr>\n",
       "      <th>99</th>\n",
       "      <td>True cut needle biopsy of the breast.  This 6...</td>\n",
       "    </tr>\n",
       "  </tbody>\n",
       "</table>\n",
       "<p>100 rows × 1 columns</p>\n",
       "</div>"
      ],
      "text/plain": [
       "                                          description\n",
       "0                  An example/template for meatotomy.\n",
       "1    Normal physical exam template.  Normal appear...\n",
       "2    Neurologic consultation was requested to asse...\n",
       "3    Multiple sharp force injuries, involving ches...\n",
       "4    The patient with atypical type right arm disc...\n",
       "..                                                ...\n",
       "95                 Ophthalmology followup visit note.\n",
       "96   Possible CSF malignancy.  This is an 83-year-...\n",
       "97   Infection (folliculitis), pelvic pain, mood s...\n",
       "98   Hematemesis in a patient with longstanding di...\n",
       "99   True cut needle biopsy of the breast.  This 6...\n",
       "\n",
       "[100 rows x 1 columns]"
      ]
     },
     "execution_count": 52,
     "metadata": {},
     "output_type": "execute_result"
    }
   ],
   "source": [
    "df"
   ]
  }
 ],
 "metadata": {
  "kernelspec": {
   "display_name": "lara-medh",
   "language": "python",
   "name": "python3"
  },
  "language_info": {
   "codemirror_mode": {
    "name": "ipython",
    "version": 3
   },
   "file_extension": ".py",
   "mimetype": "text/x-python",
   "name": "python",
   "nbconvert_exporter": "python",
   "pygments_lexer": "ipython3",
   "version": "3.12.2"
  }
 },
 "nbformat": 4,
 "nbformat_minor": 2
}
