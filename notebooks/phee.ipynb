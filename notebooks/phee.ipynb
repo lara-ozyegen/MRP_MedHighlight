{
 "cells": [
  {
   "cell_type": "code",
   "execution_count": 4,
   "metadata": {},
   "outputs": [
    {
     "name": "stderr",
     "output_type": "stream",
     "text": [
      "c:\\Users\\larao\\AppData\\Local\\Programs\\Python\\Python310\\lib\\site-packages\\tqdm\\auto.py:22: TqdmWarning: IProgress not found. Please update jupyter and ipywidgets. See https://ipywidgets.readthedocs.io/en/stable/user_install.html\n",
      "  from .autonotebook import tqdm as notebook_tqdm\n"
     ]
    }
   ],
   "source": [
    "import pandas as pd\n",
    "import os\n",
    "import json\n",
    "import matplotlib.pyplot as plt\n",
    "import seaborn as sns\n",
    "from transformers import AutoTokenizer, AutoModelForTokenClassification, Trainer, TrainingArguments"
   ]
  },
  {
   "cell_type": "code",
   "execution_count": 61,
   "metadata": {},
   "outputs": [],
   "source": [
    "# ace data path\n",
    "path = \"data/raw/phee/ace/train.txt\""
   ]
  },
  {
   "cell_type": "code",
   "execution_count": 62,
   "metadata": {},
   "outputs": [
    {
     "name": "stdout",
     "output_type": "stream",
     "text": [
      "       Sentence_ID            Word           Org_Tag\n",
      "0                0       OBJECTIVE                 O\n",
      "1                0               :                 O\n",
      "2                0              To                 O\n",
      "3                0            test                 O\n",
      "4                0             the                 O\n",
      "...            ...             ...               ...\n",
      "67090         3005               -  I-Treatment.Drug\n",
      "67091         3005  aminosalicylic  I-Treatment.Drug\n",
      "67092         3005            acid  I-Treatment.Drug\n",
      "67093         3005         therapy       I-Treatment\n",
      "67094         3005               .                 O\n",
      "\n",
      "[67095 rows x 3 columns]\n"
     ]
    }
   ],
   "source": [
    "# Reading the file and creating a DataFrame\n",
    "with open(path, 'r') as file:\n",
    "    lines = file.readlines()\n",
    "\n",
    "words, tags, sentence_ids = [], [], []\n",
    "sentence_id = 0\n",
    "\n",
    "for line in lines:\n",
    "    if line.strip() == '':  # Check for empty line indicating end of sentence\n",
    "        sentence_id += 1\n",
    "    else:\n",
    "        word, tag = line.strip().split()\n",
    "        words.append(word)\n",
    "        tags.append(tag)\n",
    "        sentence_ids.append(sentence_id)\n",
    "\n",
    "# Creating DataFrame\n",
    "df = pd.DataFrame({'Sentence_ID': sentence_ids, 'Word': words, 'Org_Tag': tags})\n",
    "\n",
    "# Print the DataFrame\n",
    "print(df)\n"
   ]
  },
  {
   "cell_type": "code",
   "execution_count": 63,
   "metadata": {},
   "outputs": [
    {
     "data": {
      "image/png": "[encoded data removed]",
      "text/plain": [
       "<Figure size 432x288 with 1 Axes>"
      ]
     },
     "metadata": {
      "needs_background": "light"
     },
     "output_type": "display_data"
    }
   ],
   "source": [
    "# calculate sentence lengths in df and plot\n",
    "sentence_lengths = df.groupby('Sentence_ID').size()\n",
    "sentence_lengths.plot.hist(bins=30)\n",
    "plt.title('Sentence Lengths')\n",
    "plt.xlabel('Sentence Length')\n",
    "plt.ylabel('Frequency')\n",
    "plt.show()\n",
    "\n",
    "\n"
   ]
  },
  {
   "cell_type": "code",
   "execution_count": 64,
   "metadata": {},
   "outputs": [
    {
     "data": {
      "text/plain": [
       "92"
      ]
     },
     "execution_count": 64,
     "metadata": {},
     "output_type": "execute_result"
    }
   ],
   "source": [
    "# max sentence length in df\n",
    "max_len = sentence_lengths.max()\n",
    "max_len"
   ]
  },
  {
   "cell_type": "code",
   "execution_count": 66,
   "metadata": {},
   "outputs": [
    {
     "name": "stdout",
     "output_type": "stream",
     "text": [
      "There are 31 types of tags in the dataset.\n",
      "The tags are:\n",
      "O\n",
      "I-Treatment.Drug\n",
      "I-Adverse_event.Trigger\n",
      "I-Effect\n",
      "I-Treat_Disorder\n",
      "I-Subject.Gender\n",
      "I-Subject\n",
      "I-Subject.Age\n",
      "I-Treatment\n",
      "I-Treatment.Treat_Disorder\n",
      "I-Treatment.Route\n",
      "I-Treatment.Combination.Drug\n",
      "I-Combination.Drug\n",
      "I-Subject.Race\n",
      "I-Subject.Population\n",
      "I-Subject.Sub_Disorder\n",
      "I-Time_elapsed\n",
      "I-Treatment.Duration\n",
      "I-Treatment.Dosage\n",
      "I-Potential_therapeutic_event.Trigger\n",
      "I-Drug\n",
      "I-Treatment.Freq\n",
      "I-Treatment.Time_elapsed\n",
      "I-Sub_Disorder\n",
      "I-Route\n",
      "I-Dosage\n",
      "I-Freq\n",
      "I-Duration\n",
      "I-Race\n",
      "I-Gender\n",
      "I-Population\n"
     ]
    }
   ],
   "source": [
    "# Get unique tags\n",
    "unique_tags = df['Org_Tag'].unique()\n",
    "\n",
    "# Print the count of unique tags\n",
    "print(f\"There are {len(unique_tags)} types of tags in the dataset.\")\n",
    "\n",
    "# Print each unique tag\n",
    "print(\"The tags are:\")\n",
    "for tag in unique_tags:\n",
    "    print(tag)"
   ]
  },
  {
   "cell_type": "code",
   "execution_count": 67,
   "metadata": {},
   "outputs": [
    {
     "data": {
      "text/html": [
       "<div>\n",
       "<style scoped>\n",
       "    .dataframe tbody tr th:only-of-type {\n",
       "        vertical-align: middle;\n",
       "    }\n",
       "\n",
       "    .dataframe tbody tr th {\n",
       "        vertical-align: top;\n",
       "    }\n",
       "\n",
       "    .dataframe thead th {\n",
       "        text-align: right;\n",
       "    }\n",
       "</style>\n",
       "<table border=\"1\" class=\"dataframe\">\n",
       "  <thead>\n",
       "    <tr style=\"text-align: right;\">\n",
       "      <th></th>\n",
       "      <th>Sentence_ID</th>\n",
       "      <th>Word</th>\n",
       "      <th>Org_Tag</th>\n",
       "    </tr>\n",
       "  </thead>\n",
       "  <tbody>\n",
       "    <tr>\n",
       "      <th>0</th>\n",
       "      <td>0</td>\n",
       "      <td>OBJECTIVE</td>\n",
       "      <td>O</td>\n",
       "    </tr>\n",
       "    <tr>\n",
       "      <th>1</th>\n",
       "      <td>0</td>\n",
       "      <td>:</td>\n",
       "      <td>O</td>\n",
       "    </tr>\n",
       "    <tr>\n",
       "      <th>2</th>\n",
       "      <td>0</td>\n",
       "      <td>To</td>\n",
       "      <td>O</td>\n",
       "    </tr>\n",
       "    <tr>\n",
       "      <th>3</th>\n",
       "      <td>0</td>\n",
       "      <td>test</td>\n",
       "      <td>O</td>\n",
       "    </tr>\n",
       "    <tr>\n",
       "      <th>4</th>\n",
       "      <td>0</td>\n",
       "      <td>the</td>\n",
       "      <td>O</td>\n",
       "    </tr>\n",
       "    <tr>\n",
       "      <th>...</th>\n",
       "      <td>...</td>\n",
       "      <td>...</td>\n",
       "      <td>...</td>\n",
       "    </tr>\n",
       "    <tr>\n",
       "      <th>67090</th>\n",
       "      <td>3005</td>\n",
       "      <td>-</td>\n",
       "      <td>I-Treatment.Drug</td>\n",
       "    </tr>\n",
       "    <tr>\n",
       "      <th>67091</th>\n",
       "      <td>3005</td>\n",
       "      <td>aminosalicylic</td>\n",
       "      <td>I-Treatment.Drug</td>\n",
       "    </tr>\n",
       "    <tr>\n",
       "      <th>67092</th>\n",
       "      <td>3005</td>\n",
       "      <td>acid</td>\n",
       "      <td>I-Treatment.Drug</td>\n",
       "    </tr>\n",
       "    <tr>\n",
       "      <th>67093</th>\n",
       "      <td>3005</td>\n",
       "      <td>therapy</td>\n",
       "      <td>I-Treatment</td>\n",
       "    </tr>\n",
       "    <tr>\n",
       "      <th>67094</th>\n",
       "      <td>3005</td>\n",
       "      <td>.</td>\n",
       "      <td>O</td>\n",
       "    </tr>\n",
       "  </tbody>\n",
       "</table>\n",
       "<p>67095 rows × 3 columns</p>\n",
       "</div>"
      ],
      "text/plain": [
       "       Sentence_ID            Word           Org_Tag\n",
       "0                0       OBJECTIVE                 O\n",
       "1                0               :                 O\n",
       "2                0              To                 O\n",
       "3                0            test                 O\n",
       "4                0             the                 O\n",
       "...            ...             ...               ...\n",
       "67090         3005               -  I-Treatment.Drug\n",
       "67091         3005  aminosalicylic  I-Treatment.Drug\n",
       "67092         3005            acid  I-Treatment.Drug\n",
       "67093         3005         therapy       I-Treatment\n",
       "67094         3005               .                 O\n",
       "\n",
       "[67095 rows x 3 columns]"
      ]
     },
     "execution_count": 67,
     "metadata": {},
     "output_type": "execute_result"
    }
   ],
   "source": [
    "df"
   ]
  },
  {
   "cell_type": "code",
   "execution_count": 68,
   "metadata": {},
   "outputs": [
    {
     "data": {
      "text/plain": [
       "array(['O', 'I-Treatment.Drug', 'I-Adverse_event.Trigger', 'I-Effect',\n",
       "       'I-Treat_Disorder', 'I-Subject.Gender', 'I-Subject',\n",
       "       'I-Subject.Age', 'I-Treatment', 'I-Treatment.Treat_Disorder',\n",
       "       'I-Treatment.Route', 'I-Treatment.Combination.Drug',\n",
       "       'I-Combination.Drug', 'I-Subject.Race', 'I-Subject.Population',\n",
       "       'I-Subject.Sub_Disorder', 'I-Time_elapsed', 'I-Treatment.Duration',\n",
       "       'I-Treatment.Dosage', 'I-Potential_therapeutic_event.Trigger',\n",
       "       'I-Drug', 'I-Treatment.Freq', 'I-Treatment.Time_elapsed',\n",
       "       'I-Sub_Disorder', 'I-Route', 'I-Dosage', 'I-Freq', 'I-Duration',\n",
       "       'I-Race', 'I-Gender', 'I-Population'], dtype=object)"
      ]
     },
     "execution_count": 68,
     "metadata": {},
     "output_type": "execute_result"
    }
   ],
   "source": [
    "unique_tags"
   ]
  },
  {
   "cell_type": "code",
   "execution_count": 69,
   "metadata": {},
   "outputs": [],
   "source": [
    "treatment_tags = [\n",
    "    \"I-Treatment.Drug\",\n",
    "    \"I-Treatment.Combination.Drug\",\n",
    "    \"I-Treatment\",\n",
    "    \"I-Treatment.Route\",\n",
    "    \"I-Treatment.Dosage\",\n",
    "    \"I-Combination.Drug\",\n",
    "    \"I-Treatment.Duration\",\n",
    "    \"I-Dosage\",\n",
    "    \"I-Freq\",\n",
    "    \"I-Drug\",\n",
    "    \"I-Treatment.Time_elapsed\",\n",
    "    \"I-Treatment.Freq\"\n",
    "]\n",
    "\n",
    "# Map to the new tag\n",
    "treatment_mapping = {tag: \"I-Treatment\" for tag in treatment_tags}"
   ]
  },
  {
   "cell_type": "code",
   "execution_count": 70,
   "metadata": {},
   "outputs": [],
   "source": [
    "problem_tags = [\n",
    "    \"I-Effect\",\n",
    "    \"I-Treat_Disorder\",\n",
    "    \"I-Treatment.Treat_Disorder\",\n",
    "    \"I-Subject.Sub_Disorder\",\n",
    "    \"I-Sub_Disorder\"\n",
    "]\n",
    "\n",
    "# Map to the new tag\n",
    "problem_mapping = {tag: \"I-Problem\" for tag in problem_tags}"
   ]
  },
  {
   "cell_type": "code",
   "execution_count": 71,
   "metadata": {},
   "outputs": [],
   "source": [
    "background_tags = [\n",
    "    \"I-Subject.Age\",\n",
    "    \"I-Subject.Gender\",\n",
    "    \"I-Subject.Race\",\n",
    "    \"I-Subject\",\n",
    "    \"I-Race\",\n",
    "    \"I-Gender\"\n",
    "]\n",
    "\n",
    "# Map to the new tag\n",
    "background_mapping = {tag: \"I-Background\" for tag in background_tags}"
   ]
  },
  {
   "cell_type": "code",
   "execution_count": 72,
   "metadata": {},
   "outputs": [],
   "source": [
    "other_tags = [\n",
    "    \"I-Duration\",\n",
    "    \"I-Time_elapsed\"\n",
    "]\n",
    "\n",
    "# Map to the new tag\n",
    "other_mapping = {tag: \"I-Other\" for tag in other_tags}\n"
   ]
  },
  {
   "cell_type": "code",
   "execution_count": 73,
   "metadata": {},
   "outputs": [],
   "source": [
    "o_tags = [\n",
    "    \"I-Subject.Population\",\n",
    "    \"I-Potential_therapeutic_event.Trigger\",\n",
    "    \"I-Adverse_event.Trigger\",\n",
    "    \"I-Route\",\n",
    "    \"I-Population\",\n",
    "    \"O\"\n",
    "]\n",
    "\n",
    "# Map to the new tag\n",
    "o_mapping = {tag: \"O\" for tag in o_tags}\n"
   ]
  },
  {
   "cell_type": "code",
   "execution_count": 74,
   "metadata": {},
   "outputs": [
    {
     "name": "stdout",
     "output_type": "stream",
     "text": [
      "       Sentence_ID            Word           Org_Tag          Tag\n",
      "0                0       OBJECTIVE                 O            O\n",
      "1                0               :                 O            O\n",
      "2                0              To                 O            O\n",
      "3                0            test                 O            O\n",
      "4                0             the                 O            O\n",
      "...            ...             ...               ...          ...\n",
      "67090         3005               -  I-Treatment.Drug  I-Treatment\n",
      "67091         3005  aminosalicylic  I-Treatment.Drug  I-Treatment\n",
      "67092         3005            acid  I-Treatment.Drug  I-Treatment\n",
      "67093         3005         therapy       I-Treatment  I-Treatment\n",
      "67094         3005               .                 O            O\n",
      "\n",
      "[67095 rows x 4 columns]\n"
     ]
    }
   ],
   "source": [
    "# Combine all mappings\n",
    "all_mappings = {**treatment_mapping, **problem_mapping, **background_mapping, **other_mapping, **o_mapping}\n",
    "\n",
    "# Example usage to rename tags in a DataFrame\n",
    "df[\"Tag\"] = df[\"Org_Tag\"].map(all_mappings)  # Map old tags to new tags\n",
    "print(df)\n"
   ]
  },
  {
   "cell_type": "code",
   "execution_count": 77,
   "metadata": {},
   "outputs": [
    {
     "data": {
      "text/plain": [
       "5"
      ]
     },
     "execution_count": 77,
     "metadata": {},
     "output_type": "execute_result"
    }
   ],
   "source": [
    "len(df['Tag'].unique())"
   ]
  },
  {
   "cell_type": "code",
   "execution_count": 19,
   "metadata": {},
   "outputs": [
    {
     "name": "stderr",
     "output_type": "stream",
     "text": [
      "Downloading: 100%|██████████| 895/895 [00:00<?, ?B/s] \n",
      "Downloading: 100%|██████████| 436M/436M [00:11<00:00, 39.3MB/s] \n",
      "Downloading: 100%|██████████| 300/300 [00:00<?, ?B/s] \n",
      "Downloading: 100%|██████████| 232k/232k [00:00<00:00, 15.9MB/s]\n"
     ]
    }
   ],
   "source": [
    "model = AutoModelForTokenClassification.from_pretrained(\"samrawal/bert-base-uncased_clinical-ner\")\n",
    "tokenizer = AutoTokenizer.from_pretrained(\"samrawal/bert-base-uncased_clinical-ner\")\n"
   ]
  },
  {
   "cell_type": "code",
   "execution_count": 30,
   "metadata": {},
   "outputs": [],
   "source": [
    "data_path = \"data/raw/phee/train.json\""
   ]
  },
  {
   "cell_type": "code",
   "execution_count": 31,
   "metadata": {},
   "outputs": [],
   "source": [
    "# Convert JSON data to a DataFrame\n",
    "dff = pd.read_json(data_path, lines=True)"
   ]
  },
  {
   "cell_type": "code",
   "execution_count": 32,
   "metadata": {},
   "outputs": [
    {
     "data": {
      "text/html": [
       "<div>\n",
       "<style scoped>\n",
       "    .dataframe tbody tr th:only-of-type {\n",
       "        vertical-align: middle;\n",
       "    }\n",
       "\n",
       "    .dataframe tbody tr th {\n",
       "        vertical-align: top;\n",
       "    }\n",
       "\n",
       "    .dataframe thead th {\n",
       "        text-align: right;\n",
       "    }\n",
       "</style>\n",
       "<table border=\"1\" class=\"dataframe\">\n",
       "  <thead>\n",
       "    <tr style=\"text-align: right;\">\n",
       "      <th></th>\n",
       "      <th>id</th>\n",
       "      <th>context</th>\n",
       "      <th>is_mult_event</th>\n",
       "      <th>annotations</th>\n",
       "    </tr>\n",
       "  </thead>\n",
       "  <tbody>\n",
       "    <tr>\n",
       "      <th>0</th>\n",
       "      <td>89083963</td>\n",
       "      <td>OBJECTIVE: To test the hypothesis that tumor n...</td>\n",
       "      <td>False</td>\n",
       "      <td>[{'events': [{'event_id': 'E1', 'event_type': ...</td>\n",
       "    </tr>\n",
       "    <tr>\n",
       "      <th>1</th>\n",
       "      <td>108919911</td>\n",
       "      <td>An evaluation of ovarian structure and functio...</td>\n",
       "      <td>False</td>\n",
       "      <td>[{'events': [{'event_id': 'E1', 'event_type': ...</td>\n",
       "    </tr>\n",
       "    <tr>\n",
       "      <th>2</th>\n",
       "      <td>23325961</td>\n",
       "      <td>Phenobarbital hepatotoxicity in an 8-month-old...</td>\n",
       "      <td>False</td>\n",
       "      <td>[{'events': [{'event_id': 'E1', 'event_type': ...</td>\n",
       "    </tr>\n",
       "    <tr>\n",
       "      <th>3</th>\n",
       "      <td>125520541</td>\n",
       "      <td>The authors report a case of Balint syndrome w...</td>\n",
       "      <td>True</td>\n",
       "      <td>[{'events': [{'event_id': 'E1', 'event_type': ...</td>\n",
       "    </tr>\n",
       "    <tr>\n",
       "      <th>4</th>\n",
       "      <td>1953169512</td>\n",
       "      <td>According to the Naranjo probability scale, fl...</td>\n",
       "      <td>True</td>\n",
       "      <td>[{'events': [{'event_id': 'E1', 'event_type': ...</td>\n",
       "    </tr>\n",
       "    <tr>\n",
       "      <th>...</th>\n",
       "      <td>...</td>\n",
       "      <td>...</td>\n",
       "      <td>...</td>\n",
       "      <td>...</td>\n",
       "    </tr>\n",
       "    <tr>\n",
       "      <th>2893</th>\n",
       "      <td>29314453</td>\n",
       "      <td>L-T4 stimulated lymphocyte transformation in t...</td>\n",
       "      <td>False</td>\n",
       "      <td>[{'events': [{'event_id': 'E1', 'event_type': ...</td>\n",
       "    </tr>\n",
       "    <tr>\n",
       "      <th>2894</th>\n",
       "      <td>121262251</td>\n",
       "      <td>A 53-year-old man developed lower leg edema 4 ...</td>\n",
       "      <td>False</td>\n",
       "      <td>[{'events': [{'event_id': 'E1', 'event_type': ...</td>\n",
       "    </tr>\n",
       "    <tr>\n",
       "      <th>2895</th>\n",
       "      <td>31435512</td>\n",
       "      <td>A mentally retarded 23-year-old woman with myo...</td>\n",
       "      <td>False</td>\n",
       "      <td>[{'events': [{'event_id': 'E1', 'event_type': ...</td>\n",
       "    </tr>\n",
       "    <tr>\n",
       "      <th>2896</th>\n",
       "      <td>120865491</td>\n",
       "      <td>After 5 days of treatment with IL-2, the patie...</td>\n",
       "      <td>False</td>\n",
       "      <td>[{'events': [{'event_id': 'E1', 'event_type': ...</td>\n",
       "    </tr>\n",
       "    <tr>\n",
       "      <th>2897</th>\n",
       "      <td>93997761</td>\n",
       "      <td>Acute pancreatitis after long-term 5-aminosali...</td>\n",
       "      <td>False</td>\n",
       "      <td>[{'events': [{'event_id': 'E1', 'event_type': ...</td>\n",
       "    </tr>\n",
       "  </tbody>\n",
       "</table>\n",
       "<p>2898 rows × 4 columns</p>\n",
       "</div>"
      ],
      "text/plain": [
       "              id                                            context  \\\n",
       "0       89083963  OBJECTIVE: To test the hypothesis that tumor n...   \n",
       "1      108919911  An evaluation of ovarian structure and functio...   \n",
       "2       23325961  Phenobarbital hepatotoxicity in an 8-month-old...   \n",
       "3      125520541  The authors report a case of Balint syndrome w...   \n",
       "4     1953169512  According to the Naranjo probability scale, fl...   \n",
       "...          ...                                                ...   \n",
       "2893    29314453  L-T4 stimulated lymphocyte transformation in t...   \n",
       "2894   121262251  A 53-year-old man developed lower leg edema 4 ...   \n",
       "2895    31435512  A mentally retarded 23-year-old woman with myo...   \n",
       "2896   120865491  After 5 days of treatment with IL-2, the patie...   \n",
       "2897    93997761  Acute pancreatitis after long-term 5-aminosali...   \n",
       "\n",
       "      is_mult_event                                        annotations  \n",
       "0             False  [{'events': [{'event_id': 'E1', 'event_type': ...  \n",
       "1             False  [{'events': [{'event_id': 'E1', 'event_type': ...  \n",
       "2             False  [{'events': [{'event_id': 'E1', 'event_type': ...  \n",
       "3              True  [{'events': [{'event_id': 'E1', 'event_type': ...  \n",
       "4              True  [{'events': [{'event_id': 'E1', 'event_type': ...  \n",
       "...             ...                                                ...  \n",
       "2893          False  [{'events': [{'event_id': 'E1', 'event_type': ...  \n",
       "2894          False  [{'events': [{'event_id': 'E1', 'event_type': ...  \n",
       "2895          False  [{'events': [{'event_id': 'E1', 'event_type': ...  \n",
       "2896          False  [{'events': [{'event_id': 'E1', 'event_type': ...  \n",
       "2897          False  [{'events': [{'event_id': 'E1', 'event_type': ...  \n",
       "\n",
       "[2898 rows x 4 columns]"
      ]
     },
     "execution_count": 32,
     "metadata": {},
     "output_type": "execute_result"
    }
   ],
   "source": [
    "dff"
   ]
  },
  {
   "cell_type": "code",
   "execution_count": 34,
   "metadata": {},
   "outputs": [
    {
     "data": {
      "text/plain": [
       "2898"
      ]
     },
     "execution_count": 34,
     "metadata": {},
     "output_type": "execute_result"
    }
   ],
   "source": [
    "len(dff)"
   ]
  },
  {
   "cell_type": "code",
   "execution_count": 35,
   "metadata": {},
   "outputs": [
    {
     "data": {
      "image/png": "[encoded data removed]",
      "text/plain": [
       "<Figure size 720x432 with 1 Axes>"
      ]
     },
     "metadata": {
      "needs_background": "light"
     },
     "output_type": "display_data"
    },
    {
     "name": "stdout",
     "output_type": "stream",
     "text": [
      "Average text length: 134.91235334713596\n"
     ]
    }
   ],
   "source": [
    "# Calculate the average text length\n",
    "average_text_length = dff['context'].apply(len).mean()\n",
    "\n",
    "# Calculate the frequency distribution of text lengths\n",
    "text_lengths = dff['context'].apply(len)\n",
    "text_length_counts = text_lengths.value_counts().reset_index()\n",
    "text_length_counts.columns = ['Text Length', 'Frequency']\n",
    "\n",
    "# Create a bar plot for text length frequencies\n",
    "plt.figure(figsize=(10, 6))\n",
    "sns.barplot(x='Text Length', y='Frequency', data=text_length_counts)\n",
    "plt.xlabel('Text Length')\n",
    "plt.ylabel('Frequency')\n",
    "plt.title('Text Length Frequencies')\n",
    "plt.show()\n",
    "\n",
    "# Display the average text length\n",
    "print(\"Average text length:\", average_text_length)\n"
   ]
  },
  {
   "cell_type": "code",
   "execution_count": 42,
   "metadata": {},
   "outputs": [
    {
     "data": {
      "text/plain": [
       "'OBJECTIVE: To test the hypothesis that tumor necrosis factor (TNF)-alpha may mediate the loss and the dedifferentiation of subcutaneous fat tissue in the insulin-induced lipoatrophies of a diabetic patient who presented extensive lesions.'"
      ]
     },
     "execution_count": 42,
     "metadata": {},
     "output_type": "execute_result"
    }
   ],
   "source": [
    "dff['context'][0]"
   ]
  },
  {
   "cell_type": "code",
   "execution_count": 37,
   "metadata": {},
   "outputs": [
    {
     "name": "stdout",
     "output_type": "stream",
     "text": [
      "Max text length: 527\n",
      "A 47-year-old HIV-infected man with dilated cardiomyopathy and prolonged QT syndrome with an automatic implantable cardiovascular defibrillator device was prescribed subcutaneous enfuvirtide 90 mg twice daily as part of his antiretroviral regimen and oral extended-release niacin 500 mg/day for a high-density lipoprotein level of 8 mg/dL. After 1 week of concomitant therapy, the patient began experiencing extreme redness, edema, and swelling at the injection site that corresponded with the flushing sensation due to niacin.\n"
     ]
    }
   ],
   "source": [
    "# print the text that has the max length in df\n",
    "max_text_length = dff['context'].apply(len).max()\n",
    "print(\"Max text length:\", max_text_length)\n",
    "print(dff[dff['context'].apply(len) == max_text_length]['context'].iloc[0])"
   ]
  },
  {
   "cell_type": "code",
   "execution_count": 12,
   "metadata": {},
   "outputs": [
    {
     "name": "stdout",
     "output_type": "stream",
     "text": [
      "[{'events': [{'event_id': 'E1', 'event_type': 'Adverse_event', 'Trigger': {'text': [['experiencing']], 'start': [[395]], 'entity_id': ['T20']}, 'Subject': {'text': [['A 47-year-old HIV-infected man with dilated cardiomyopathy and prolonged QT syndrome with an automatic implantable cardiovascular defibrillator device']], 'start': [[0]], 'entity_id': ['T17'], 'Disorder': {'text': [['dilated cardiomyopathy'], ['prolonged QT syndrome']], 'start': [[36], [63]], 'entity_id': ['T18', 'T1']}, 'Age': {'text': [['47-year-old']], 'start': [[2]], 'entity_id': ['T22']}, 'Gender': {'text': [['man']], 'start': [[27]], 'entity_id': ['T24']}}, 'Treatment': {'text': [['subcutaneous enfuvirtide 90 mg twice daily as part of his antiretroviral regimen and oral extended-release niacin 500 mg/day for a high-density lipoprotein level of 8 mg/dL']], 'start': [[166]], 'entity_id': ['T19'], 'Disorder': {'text': [['HIV-infected']], 'start': [[14]], 'entity_id': ['T23']}, 'Dosage': {'text': [['90 mg'], ['500 mg']], 'start': [[191], [280]], 'entity_id': ['T25', 'T31']}, 'Freq': {'text': [['twice daily'], ['day']], 'start': [[197], [287]], 'entity_id': ['T26', 'T32']}, 'Drug': {'text': [['enfuvirtide'], ['niacin']], 'start': [[179], [273]], 'entity_id': ['T27', 'T30']}, 'Route': {'text': [['subcutaneous'], ['oral']], 'start': [[166], [251]], 'entity_id': ['T28', 'T29']}, 'Time_elapsed': {'text': [['1 week']], 'start': [[346]], 'entity_id': ['T3']}, 'Combination': [{'event_id': 'E2', 'event_type': 'Combination', 'Trigger': {'text': [['and']], 'start': [[247]], 'entity_id': ['T2']}, 'Drug': {'text': [['niacin'], ['enfuvirtide']], 'start': [[273], [179]], 'entity_id': ['T30', 'T27']}}]}, 'Effect': {'text': [['extreme redness, edema, and swelling at the injection site that corresponded with the flushing sensation due to niacin']], 'start': [[408]], 'entity_id': ['T21']}}]}]\n"
     ]
    },
    {
     "data": {
      "text/html": [
       "<div>\n",
       "<style scoped>\n",
       "    .dataframe tbody tr th:only-of-type {\n",
       "        vertical-align: middle;\n",
       "    }\n",
       "\n",
       "    .dataframe tbody tr th {\n",
       "        vertical-align: top;\n",
       "    }\n",
       "\n",
       "    .dataframe thead th {\n",
       "        text-align: right;\n",
       "    }\n",
       "</style>\n",
       "<table border=\"1\" class=\"dataframe\">\n",
       "  <thead>\n",
       "    <tr style=\"text-align: right;\">\n",
       "      <th></th>\n",
       "      <th>events</th>\n",
       "    </tr>\n",
       "  </thead>\n",
       "  <tbody>\n",
       "    <tr>\n",
       "      <th>0</th>\n",
       "      <td>[{'event_id': 'E1', 'event_type': 'Adverse_eve...</td>\n",
       "    </tr>\n",
       "  </tbody>\n",
       "</table>\n",
       "</div>"
      ],
      "text/plain": [
       "                                              events\n",
       "0  [{'event_id': 'E1', 'event_type': 'Adverse_eve..."
      ]
     },
     "execution_count": 12,
     "metadata": {},
     "output_type": "execute_result"
    }
   ],
   "source": [
    "# print df['annotations'] of the max length text\n",
    "print(df[df['context'].apply(len) == max_text_length]['annotations'].iloc[0])\n",
    "# show it in df format\n",
    "pd.DataFrame(df[df['context'].apply(len) == max_text_length]['annotations'].iloc[0])\n"
   ]
  },
  {
   "cell_type": "code",
   "execution_count": 7,
   "metadata": {},
   "outputs": [
    {
     "name": "stdout",
     "output_type": "stream",
     "text": [
      "Number of long texts: 1\n"
     ]
    }
   ],
   "source": [
    "# How many words are there that are longer than 512 characters? and how many are there that are longer than 256 characters?\n",
    "long_text = df[df['context'].apply(len) > 512]\n",
    "print(\"Number of long texts:\", len(long_text))\n",
    "\n",
    "# # remove long texts\n",
    "# df = df[df['context'].apply(len) <= 256]"
   ]
  },
  {
   "cell_type": "code",
   "execution_count": 20,
   "metadata": {},
   "outputs": [
    {
     "name": "stderr",
     "output_type": "stream",
     "text": [
      "Downloading: 100%|██████████| 49.0/49.0 [00:00<00:00, 12.1kB/s]\n",
      "Downloading: 100%|██████████| 462/462 [00:00<00:00, 1.74MB/s]\n",
      "Downloading: 100%|██████████| 213k/213k [00:00<00:00, 13.2MB/s]\n",
      "Downloading: 100%|██████████| 112/112 [00:00<?, ?B/s] \n"
     ]
    }
   ],
   "source": [
    "tokenizer = AutoTokenizer.from_pretrained('dmis-lab/biobert-v1.1')"
   ]
  },
  {
   "cell_type": "code",
   "execution_count": 25,
   "metadata": {},
   "outputs": [],
   "source": [
    "def encode_data(tokenizer, text, max_length):\n",
    "    encoded = tokenizer.batch_encode_plus(\n",
    "        text,\n",
    "        truncation=True,\n",
    "        add_special_tokens=True,  # Add '[CLS]' and '[SEP]'\n",
    "        padding='max_length',\n",
    "        max_length=max_length,\n",
    "        return_tensors='pt'  # return PyTorch tensors\n",
    "    )\n",
    "    return encoded[\"input_ids\"], encoded[\"attention_mask\"], encoded\n",
    "# Use an appropriate max_length \n",
    "input_ids, attention_mask, encoded= encode_data(tokenizer, df['context'].tolist(), max_length=256)"
   ]
  },
  {
   "cell_type": "code",
   "execution_count": 28,
   "metadata": {},
   "outputs": [
    {
     "data": {
      "text/plain": [
       "{'input_ids': tensor([[  101,   152,  2064,  ...,     0,     0,     0],\n",
       "        [  101,  1760, 10540,  ...,     0,     0,     0],\n",
       "        [  101,  7642, 26601,  ...,     0,     0,     0],\n",
       "        ...,\n",
       "        [  101,   138, 10883,  ...,     0,     0,     0],\n",
       "        [  101,  1258,   126,  ...,     0,     0,     0],\n",
       "        [  101,   138, 23987,  ...,     0,     0,     0]]), 'token_type_ids': tensor([[0, 0, 0,  ..., 0, 0, 0],\n",
       "        [0, 0, 0,  ..., 0, 0, 0],\n",
       "        [0, 0, 0,  ..., 0, 0, 0],\n",
       "        ...,\n",
       "        [0, 0, 0,  ..., 0, 0, 0],\n",
       "        [0, 0, 0,  ..., 0, 0, 0],\n",
       "        [0, 0, 0,  ..., 0, 0, 0]]), 'attention_mask': tensor([[1, 1, 1,  ..., 0, 0, 0],\n",
       "        [1, 1, 1,  ..., 0, 0, 0],\n",
       "        [1, 1, 1,  ..., 0, 0, 0],\n",
       "        ...,\n",
       "        [1, 1, 1,  ..., 0, 0, 0],\n",
       "        [1, 1, 1,  ..., 0, 0, 0],\n",
       "        [1, 1, 1,  ..., 0, 0, 0]])}"
      ]
     },
     "execution_count": 28,
     "metadata": {},
     "output_type": "execute_result"
    }
   ],
   "source": [
    "encoded"
   ]
  },
  {
   "cell_type": "code",
   "execution_count": 38,
   "metadata": {},
   "outputs": [
    {
     "data": {
      "text/plain": [
       "[{'event_id': 'E1',\n",
       "  'event_type': 'Adverse_event',\n",
       "  'Trigger': {'text': [['induced']], 'start': [[162]], 'entity_id': ['T4']},\n",
       "  'Treatment': {'text': [['insulin']],\n",
       "   'start': [[154]],\n",
       "   'entity_id': ['T3'],\n",
       "   'Drug': {'text': [['insulin']], 'start': [[154]], 'entity_id': ['T6']},\n",
       "   'Disorder': {'text': [['diabetic']],\n",
       "    'start': [[189]],\n",
       "    'entity_id': ['T7']}},\n",
       "  'Effect': {'text': [['lipoatrophies']],\n",
       "   'start': [[170]],\n",
       "   'entity_id': ['T5']}}]"
      ]
     },
     "execution_count": 38,
     "metadata": {},
     "output_type": "execute_result"
    }
   ],
   "source": [
    "df['annotations'][0][0]['events']"
   ]
  },
  {
   "cell_type": "code",
   "execution_count": 24,
   "metadata": {},
   "outputs": [
    {
     "data": {
      "text/plain": [
       "tensor([[1, 1, 1,  ..., 0, 0, 0],\n",
       "        [1, 1, 1,  ..., 0, 0, 0],\n",
       "        [1, 1, 1,  ..., 0, 0, 0],\n",
       "        ...,\n",
       "        [1, 1, 1,  ..., 0, 0, 0],\n",
       "        [1, 1, 1,  ..., 0, 0, 0],\n",
       "        [1, 1, 1,  ..., 0, 0, 0]])"
      ]
     },
     "execution_count": 24,
     "metadata": {},
     "output_type": "execute_result"
    }
   ],
   "source": [
    "attention_mask"
   ]
  },
  {
   "cell_type": "code",
   "execution_count": null,
   "metadata": {},
   "outputs": [],
   "source": [
    "train_args = {\n",
    "    'reprocess_input_data': True,\n",
    "    'overwrite_output_dir': True,\n",
    "    'sliding_window': True,\n",
    "    'max_seq_length': 64,\n",
    "    'num_train_epochs': 10,\n",
    "    'train_batch_size': 32,\n",
    "    'fp16': True,\n",
    "    'output_dir': '/outputs/',\n",
    "    'best_model_dir': '/outputs/best_model/',\n",
    "    'evaluate_during_training': True,\n",
    "}"
   ]
  }
 ],
 "metadata": {
  "kernelspec": {
   "display_name": "Python 3",
   "language": "python",
   "name": "python3"
  },
  "language_info": {
   "codemirror_mode": {
    "name": "ipython",
    "version": 3
   },
   "file_extension": ".py",
   "mimetype": "text/x-python",
   "name": "python",
   "nbconvert_exporter": "python",
   "pygments_lexer": "ipython3",
   "version": "3.10.2"
  },
  "orig_nbformat": 4
 },
 "nbformat": 4,
 "nbformat_minor": 2
}
