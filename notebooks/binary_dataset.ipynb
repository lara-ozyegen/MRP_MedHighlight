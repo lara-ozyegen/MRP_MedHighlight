{
 "cells": [
  {
   "cell_type": "code",
   "execution_count": 34,
   "metadata": {},
   "outputs": [],
   "source": [
    "import pandas as pd\n",
    "import ast\n",
    "def map_to_binary(labels):\n",
    "    binary_labels = ['O' if label == 'O' else 'I' for label in labels]\n",
    "    return binary_labels"
   ]
  },
  {
   "cell_type": "code",
   "execution_count": 38,
   "metadata": {},
   "outputs": [
    {
     "name": "stdout",
     "output_type": "stream",
     "text": [
      "                                            sentence  \\\n",
      "0  ['after', 'induction', 'of', 'general', 'anest...   \n",
      "1  ['a', '60', '-', 'yr', '-', 'old', 'woman', ',...   \n",
      "2  ['temozolomide', '-', 'induced', 'desquamative...   \n",
      "3  ['electrical', 'proarrhythmia', 'with', 'proca...   \n",
      "4  ['there', 'are', 'now', 'reports', 'of', 'live...   \n",
      "\n",
      "                                                 tag  \n",
      "0  [O, I-Treatment, O, I-Treatment, I-Treatment, ...  \n",
      "1  [O, I-Background, I-Background, I-Background, ...  \n",
      "2  [I-Treatment, O, O, I-Problem, I-Problem, I-Pr...  \n",
      "3  [I-Problem, I-Test, O, I-Treatment, O, O, O, O...  \n",
      "4  [O, O, O, O, O, I-Problem, I-Problem, O, O, O,...  \n"
     ]
    }
   ],
   "source": [
    "# read csv file\n",
    "\n",
    "file_path = 'data/processed/phee/fold0/test.csv'\n",
    "df = pd.read_csv(file_path)\n",
    "df['tag'] = df['tag'].apply(ast.literal_eval)\n",
    "print(df.head())\n",
    "df['tag'] = df['tag'].apply(map_to_binary)\n",
    "df\n",
    "# save to csv\n",
    "df.to_csv('data/processed/phee/fold0/binary_test.csv', index=False)"
   ]
  }
 ],
 "metadata": {
  "kernelspec": {
   "display_name": "medh",
   "language": "python",
   "name": "python3"
  },
  "language_info": {
   "codemirror_mode": {
    "name": "ipython",
    "version": 3
   },
   "file_extension": ".py",
   "mimetype": "text/x-python",
   "name": "python",
   "nbconvert_exporter": "python",
   "pygments_lexer": "ipython3",
   "version": "3.8.18"
  }
 },
 "nbformat": 4,
 "nbformat_minor": 2
}
