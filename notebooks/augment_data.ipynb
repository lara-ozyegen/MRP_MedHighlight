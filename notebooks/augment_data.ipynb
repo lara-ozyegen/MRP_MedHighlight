{
 "cells": [
  {
   "cell_type": "code",
   "execution_count": null,
   "metadata": {},
   "outputs": [],
   "source": [
    "from gensim.models import Word2Vec, FastText"
   ]
  },
  {
   "cell_type": "code",
   "execution_count": null,
   "metadata": {},
   "outputs": [],
   "source": [
    "\n",
    "\n",
    "# Load a pre-trained model (this is just a placeholder; you'd load a real model)\n",
    "model = Word2Vec.load('path_to_pretrained_model')\n",
    "\n",
    "# Get most similar words\n",
    "similar_words = model.wv.most_similar('daily', topn=10)\n",
    "synonyms = [word[0] for word in similar_words]\n",
    "print(synonyms)"
   ]
  }
 ],
 "metadata": {
  "language_info": {
   "name": "python"
  }
 },
 "nbformat": 4,
 "nbformat_minor": 2
}
